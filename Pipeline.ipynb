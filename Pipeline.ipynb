{
  "nbformat": 4,
  "nbformat_minor": 0,
  "metadata": {
    "colab": {
      "name": "final_cs2.ipynb",
      "provenance": []
    },
    "kernelspec": {
      "name": "python3",
      "display_name": "Python 3"
    },
    "language_info": {
      "name": "python"
    }
  },
  "cells": [
    {
      "cell_type": "code",
      "metadata": {
        "id": "VDX7y52K6RRy"
      },
      "source": [
        "import re\n",
        "import string\n",
        "import pandas as pd\n",
        "from sklearn.metrics import roc_auc_score,auc\n",
        "from sklearn.metrics import classification_report, confusion_matrix\n",
        "from keras.utils import plot_model\n",
        "from keras.layers import Layer\n",
        "from sklearn.metrics import roc_auc_score , f1_score\n",
        "import keras.backend as K\n",
        "import pickle\n",
        "import tensorflow as tf\n",
        "import numpy as np\n",
        "from keras.preprocessing.sequence import pad_sequences"
      ],
      "execution_count": null,
      "outputs": []
    },
    {
      "cell_type": "markdown",
      "metadata": {
        "id": "INenmCUszwSF"
      },
      "source": [
        "### Attention Layer"
      ]
    },
    {
      "cell_type": "code",
      "metadata": {
        "id": "DnGKLU1bz0OO"
      },
      "source": [
        "class attention(Layer):\n",
        "    def __init__(self,**kwargs):\n",
        "        super(attention,self).__init__(**kwargs)\n",
        "\n",
        "    def build(self,input_shape):\n",
        "        self.W=self.add_weight(name=\"att_weight\",shape=(input_shape[-1],1),initializer=\"normal\")\n",
        "        self.b=self.add_weight(name=\"att_bias\",shape=(input_shape[1],1),initializer=\"zeros\")        \n",
        "        super(attention, self).build(input_shape)\n",
        "\n",
        "    def call(self,x):\n",
        "        et=K.squeeze(K.tanh(K.dot(x,self.W)+self.b),axis=-1)\n",
        "        at=K.softmax(et)\n",
        "        at=K.expand_dims(at,axis=-1)\n",
        "        output=x*at\n",
        "        return K.sum(output,axis=1)\n",
        "\n",
        "    def compute_output_shape(self,input_shape):\n",
        "        return (input_shape[0],input_shape[-1])\n",
        "\n",
        "    def get_config(self):\n",
        "        return super(attention,self).get_config()"
      ],
      "execution_count": null,
      "outputs": []
    },
    {
      "cell_type": "markdown",
      "metadata": {
        "id": "7SxS_tIS1CSp"
      },
      "source": [
        "### Fun 1"
      ]
    },
    {
      "cell_type": "code",
      "metadata": {
        "id": "0hxdvTPWAvIu"
      },
      "source": [
        "# vocab dictionary contains alphabets and numbers\n",
        "vocab ={}\n",
        "numbers=\"0123456789\"\n",
        "\n",
        "for i in string.ascii_letters :\n",
        "  vocab[i]=1\n",
        "\n",
        "for i in numbers :\n",
        "  vocab[i]=1"
      ],
      "execution_count": null,
      "outputs": []
    },
    {
      "cell_type": "code",
      "metadata": {
        "id": "8U_YIVgT2HId"
      },
      "source": [
        "#Load tokenizer\n",
        "tokenizer = pickle.load(open('tokenizer.pkl','rb'))\n",
        "\n",
        "\n",
        "#Load model \n",
        "bi_lstm_with_attention = tf.keras.models.load_model('bi_lstm_with_attention.h5',\n",
        "                                                    custom_objects={'attention': attention,'auc':auc})"
      ],
      "execution_count": null,
      "outputs": []
    },
    {
      "cell_type": "code",
      "metadata": {
        "id": "tRRHgZP1daqL"
      },
      "source": [
        "def pipeline(data):\n",
        "    \n",
        "    #1 PREPROCESS DATA\n",
        "\n",
        "    data =  re.sub(r'<.*?>',' ',data)        #replace url & links\n",
        "    data =  re.sub(r'http\\S+',' ', data)\n",
        "  \n",
        "    data =  re.sub(r'_MATH_',' math ', data)  #handle special vocab\n",
        "    data =  re.sub(r'_math_',' math ', data)\n",
        "\n",
        "    data =  re.sub(r'_MATHDISP_',' math ', data)\n",
        "    data =  re.sub(r'_mathdisp_',' math ', data)\n",
        "\n",
        "    data =  re.sub(r'_REF_',' ref ', data)\n",
        "    data =  re.sub(r'_ref_',' ref ', data)\n",
        "\n",
        "    data =  re.sub(r'_CITE_',' cite ', data)\n",
        "    data =  re.sub(r'_cite_',' cite ', data)\n",
        "    \n",
        "    new_data = \"\"                           #space before & after special chars            \n",
        "    for char in data :\n",
        "      if char==' ' :\n",
        "        new_data = new_data + ' '    \n",
        "      else :\n",
        "        if char not in vocab :\n",
        "          new_data = new_data + ' ' + char + ' '\n",
        "        else :\n",
        "          new_data = new_data + char\n",
        "\n",
        "    data = new_data.strip()\n",
        "    data = data.lower()\n",
        "\n",
        "    #2 CREATE DATAFRAME\n",
        "    df = pd.DataFrame()\n",
        "    df['data']=[data]\n",
        "\n",
        "    #2 TOKENIZE DATA\n",
        "    X = tokenizer.texts_to_sequences(df['data'])\n",
        "    X = pad_sequences(X, maxlen=128, padding='post')\n",
        "\n",
        "    #3 PREDICT \n",
        "    pred_label = bi_lstm_with_attention.predict(X)\n",
        "    pred_label = np.argmax(pred_label,axis=1)\n",
        "\n",
        "    return pred_label"
      ],
      "execution_count": null,
      "outputs": []
    },
    {
      "cell_type": "code",
      "metadata": {
        "id": "Ar3o9RBOfeex",
        "colab": {
          "base_uri": "https://localhost:8080/"
        },
        "outputId": "10640ef0-561f-4a4d-9b2c-ff103543f2e6"
      },
      "source": [
        "text = \"In this section, we will provide two examples.\"\n",
        "\n",
        "pred_label  = pipeline(text)\n",
        "\n",
        "if(pred_label==1) :\n",
        "  print(text,' Class: Edit')\n",
        "else :\n",
        "  print(text,' Class: no-Edit')"
      ],
      "execution_count": null,
      "outputs": [
        {
          "output_type": "stream",
          "text": [
            "In this section, we will provide two examples.  Class: no-Edit\n"
          ],
          "name": "stdout"
        }
      ]
    },
    {
      "cell_type": "code",
      "metadata": {
        "colab": {
          "base_uri": "https://localhost:8080/"
        },
        "id": "2LY4Jxwn3mWW",
        "outputId": "dffc0260-ba2e-46ef-877b-4801dfcd0db9"
      },
      "source": [
        "text = \"In this section we will provide two example.\"\n",
        "\n",
        "pred_label  = pipeline(text)\n",
        "\n",
        "if(pred_label==1) :\n",
        "  print(text,' Class: Edit')\n",
        "else :\n",
        "  print(text,' Class: no-Edit')"
      ],
      "execution_count": null,
      "outputs": [
        {
          "output_type": "stream",
          "text": [
            "In this section we will provide two example.  Class: Edit\n"
          ],
          "name": "stdout"
        }
      ]
    }
  ]
}