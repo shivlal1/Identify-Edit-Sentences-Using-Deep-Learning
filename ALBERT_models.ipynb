{
  "nbformat": 4,
  "nbformat_minor": 0,
  "metadata": {
    "colab": {
      "name": "Colab_25GBRAM_GPU_Techhawa(1).ipynb",
      "provenance": [],
      "collapsed_sections": [
        "iTQMvt4pCenA",
        "3r2ACmlMGXSY"
      ],
      "machine_shape": "hm"
    },
    "kernelspec": {
      "name": "python3",
      "display_name": "Python 3"
    },
    "accelerator": "GPU"
  },
  "cells": [
    {
      "cell_type": "code",
      "metadata": {
        "id": "cCSmfyEps-gk"
      },
      "source": [
        "import pickle\n",
        "from sklearn.model_selection import train_test_split\n",
        "from sklearn.metrics import roc_curve, auc,roc_auc_score\n",
        "from xgboost.sklearn import XGBClassifier\n",
        "from sklearn.metrics import f1_score\n",
        "from sklearn.metrics import roc_curve, auc\n",
        "import matplotlib.pyplot as plt\n",
        "from sklearn.metrics import confusion_matrix\n",
        "from keras.utils import to_categorical\n",
        "from keras.layers import Dense,Input,BatchNormalization,LSTM\n",
        "from keras.layers import Flatten ,Dropout\n",
        "from keras.models import Model\n",
        "from keras.utils import to_categorical\n",
        "from sklearn.metrics import roc_auc_score, auc\n",
        "from sklearn.metrics import classification_report, confusion_matrix\n",
        "from keras.layers import Dense , Conv1D,Input\n",
        "import keras\n",
        "import tensorflow as tf\n",
        "from keras.utils import plot_model\n",
        "import numpy as np\n",
        "import pandas as pd"
      ],
      "execution_count": null,
      "outputs": []
    },
    {
      "cell_type": "markdown",
      "metadata": {
        "id": "ZM8JZ4JeEtI9"
      },
      "source": [
        "This note book contains :\n",
        "\n",
        "  1 Load Data\n",
        "\n",
        "  2 XGboost \n",
        "\n",
        "      hypertune learning rate\n",
        "      hypertune estimators\n",
        "      hypertune depth\n",
        "      hypertune gamma\n",
        "      best model\n",
        "  3 Feed forward neural network\n",
        "\n",
        "  4 Summary\n"
      ]
    },
    {
      "cell_type": "code",
      "metadata": {
        "id": "yCjDIs3wtBhl"
      },
      "source": [
        "X_train,y_train = pickle.load(open(\"/content/pre_processed_train_data.pkl\", 'rb')) "
      ],
      "execution_count": null,
      "outputs": []
    },
    {
      "cell_type": "code",
      "metadata": {
        "id": "o84a9dlstEJ_"
      },
      "source": [
        "X_test,y_test = pickle.load(open(\"/content/pre_processed_test_data.pkl\", 'rb')) "
      ],
      "execution_count": null,
      "outputs": []
    },
    {
      "cell_type": "markdown",
      "metadata": {
        "id": "dGJ5LcyaCG8n"
      },
      "source": [
        "## Define ALBERT Model"
      ]
    },
    {
      "cell_type": "code",
      "metadata": {
        "id": "jsuYjY2fCIq_"
      },
      "source": [
        "#https://www.tensorflow.org/tutorials/text/classify_text_with_bert"
      ],
      "execution_count": null,
      "outputs": []
    },
    {
      "cell_type": "code",
      "metadata": {
        "id": "-D0iFbBRCIwN"
      },
      "source": [
        "!pip3 install -q tensorflow-text"
      ],
      "execution_count": null,
      "outputs": []
    },
    {
      "cell_type": "code",
      "metadata": {
        "id": "l7jQfxGlCNPi"
      },
      "source": [
        "!pip3 install -q tf-models-official"
      ],
      "execution_count": null,
      "outputs": []
    },
    {
      "cell_type": "code",
      "metadata": {
        "id": "OaD6u2vPCNSJ"
      },
      "source": [
        "import os\n",
        "import shutil\n",
        "\n",
        "import tensorflow as tf\n",
        "import tensorflow_hub as hub\n",
        "import tensorflow_text as text\n",
        "from official.nlp import optimization  # to create AdamW optmizer\n",
        "\n",
        "import matplotlib.pyplot as plt\n",
        "\n",
        "tf.get_logger().setLevel('ERROR')"
      ],
      "execution_count": null,
      "outputs": []
    },
    {
      "cell_type": "code",
      "metadata": {
        "id": "AC83Lg7CCNUX"
      },
      "source": [
        "def getALBERT():\n",
        "\n",
        "\n",
        "  preprocess_data = 'https://tfhub.dev/tensorflow/albert_en_preprocess/3'\n",
        "  preprocessing_layer = hub.KerasLayer(preprocess_data, name='preprocessing')\n",
        "  \n",
        "  encode_data = 'https://tfhub.dev/tensorflow/albert_en_base/2'\n",
        "  encoder = hub.KerasLayer(encode_data, trainable=False, name='ALBERT_encoder')\n",
        "\n",
        "\n",
        "  #albert architecture \n",
        "\n",
        "  text_input = tf.keras.layers.Input(shape=(), dtype=tf.string, name='text')\n",
        "\n",
        "  encoder_inputs = preprocessing_layer(text_input)\n",
        "  \n",
        "  outputs = encoder(encoder_inputs)\n",
        "  \n",
        "  vector_representation = outputs['pooled_output']\n",
        "  \n",
        "  return tf.keras.Model(text_input, vector_representation)"
      ],
      "execution_count": null,
      "outputs": []
    },
    {
      "cell_type": "code",
      "metadata": {
        "id": "DZZoSgKJCaOb"
      },
      "source": [
        "albert = getALBERT()"
      ],
      "execution_count": null,
      "outputs": []
    },
    {
      "cell_type": "code",
      "metadata": {
        "id": "P8YLpP-aCNXF"
      },
      "source": [
        "X_train = albert.predict(X_train)\n",
        "X_test  = albert.predict(X_test)"
      ],
      "execution_count": null,
      "outputs": []
    },
    {
      "cell_type": "code",
      "metadata": {
        "id": "1R1NJEJ_CVf-"
      },
      "source": [
        "X_train, X_cv, y_train, y_cv = train_test_split(X_train, y_train, test_size=0.25)"
      ],
      "execution_count": null,
      "outputs": []
    },
    {
      "cell_type": "markdown",
      "metadata": {
        "id": "iTQMvt4pCenA"
      },
      "source": [
        "## XGboost"
      ]
    },
    {
      "cell_type": "code",
      "metadata": {
        "id": "XWv4-OdKtEMj"
      },
      "source": [
        "def batch_predict(clf, data):\n",
        "    # roc_auc_score(y_true, y_score) the 2nd parameter should be probability estimates of the positive class\n",
        "    # not the predicted outputs\n",
        "\n",
        "    y_data_pred = []\n",
        "    tr_loop = data.shape[0] - data.shape[0]%1000\n",
        "    # consider you X_tr shape is 49041, then your tr_loop will be 49041 - 49041%1000 = 49000\n",
        "    # in this for loop we will iterate unti the last 1000 multiplier\n",
        "    for i in range(0, tr_loop, 1000):\n",
        "        y_data_pred.extend(clf.predict_proba(data[i:i+1000])[:,1])\n",
        "    # we will be predicting for the last data points\n",
        "    if data.shape[0]%1000 !=0:\n",
        "        y_data_pred.extend(clf.predict_proba(data[tr_loop:])[:,1])\n",
        "    \n",
        "    return y_data_pred"
      ],
      "execution_count": null,
      "outputs": []
    },
    {
      "cell_type": "code",
      "metadata": {
        "id": "oOeOQWCetK9r"
      },
      "source": [
        "def find_best_threshold(threshould, fpr, tpr):\n",
        "    t = threshould[np.argmax(tpr*(1-fpr))]\n",
        "    # (tpr*(1-fpr)) will be maximum if your fpr is very low and tpr is very high\n",
        "    print(\"the maximum value of tpr*(1-fpr)\", max(tpr*(1-fpr)), \"for threshold\", np.round(t,3))\n",
        "    return t\n",
        "\n",
        "def predict_with_best_t(proba, threshould):\n",
        "    predictions = []\n",
        "    for i in proba:\n",
        "        if i>=threshould:\n",
        "            predictions.append(1)\n",
        "        else:\n",
        "            predictions.append(0)\n",
        "    return predictions"
      ],
      "execution_count": null,
      "outputs": []
    },
    {
      "cell_type": "markdown",
      "metadata": {
        "id": "ltuAcEIqDqRV"
      },
      "source": [
        "### Learning Rate"
      ]
    },
    {
      "cell_type": "code",
      "metadata": {
        "id": "c6xZYUPRCm-e"
      },
      "source": [
        "def XGBoost_learning_rate(X_tr,y_train) :\n",
        "\n",
        "  print('LearningRate , Train ACU ','CV auc')\n",
        "\n",
        "  learning_rate  = [0.1 ,.15 , 0.20 ,.25 , .3]\n",
        "\n",
        "  for i in learning_rate :\n",
        "    model = XGBClassifier(learning_rate=i)\n",
        "    model.fit(X_tr,y_train)\n",
        "    y_train_pred = batch_predict(model, X_tr)    \n",
        "    y_cv_pred = batch_predict(model, X_cv)    \n",
        "\n",
        "    print(i,'\\t',roc_auc_score(y_train,y_train_pred),roc_auc_score(y_cv, y_cv_pred))"
      ],
      "execution_count": null,
      "outputs": []
    },
    {
      "cell_type": "code",
      "metadata": {
        "colab": {
          "base_uri": "https://localhost:8080/"
        },
        "id": "9y6OeTAvtLDS",
        "outputId": "9f414b91-b468-4d48-bcd9-261c6e36242d"
      },
      "source": [
        "XGBoost_learning_rate(X_train,y_train)"
      ],
      "execution_count": null,
      "outputs": [
        {
          "output_type": "stream",
          "text": [
            "LearningRate , Train ACU  CV auc\n",
            "0.1 \t 0.6003754196369363 0.5922693568329459\n",
            "0.15 \t 0.6048926613625352 0.5947844608951303\n",
            "0.2 \t 0.6085611637146473 0.5968038502489561\n",
            "0.25 \t 0.6108313946311597 0.5972328227801353\n",
            "0.3 \t 0.6121587129938344 0.5974407029710659\n"
          ],
          "name": "stdout"
        }
      ]
    },
    {
      "cell_type": "code",
      "metadata": {
        "id": "oyhgNlmTQImp"
      },
      "source": [
        "#best learning rate = .3"
      ],
      "execution_count": null,
      "outputs": []
    },
    {
      "cell_type": "markdown",
      "metadata": {
        "id": "a8TOJbAbDs75"
      },
      "source": [
        "### Estimators"
      ]
    },
    {
      "cell_type": "code",
      "metadata": {
        "id": "RuMwtmpkC91V"
      },
      "source": [
        "def XGBoost_Estimators(estimator,X_tr,y_train) :\n",
        "\n",
        "  print('Estimator  Train ACU  CV auc')\n",
        "\n",
        "  #best learning rate = .3\n",
        "\n",
        "  model = XGBClassifier(learning_rate=.3,n_estimators=estimator,n_jobs=-1)\n",
        "  model.fit(X_tr,y_train)\n",
        "  y_train_pred = batch_predict(model, X_tr)    \n",
        "  y_cv_pred = batch_predict(model, X_cv)\n",
        "\n",
        "  print(estimator,'\\t',roc_auc_score(y_train,y_train_pred),roc_auc_score(y_cv, y_cv_pred))"
      ],
      "execution_count": null,
      "outputs": []
    },
    {
      "cell_type": "code",
      "metadata": {
        "colab": {
          "base_uri": "https://localhost:8080/"
        },
        "id": "o9knkDfFC96y",
        "outputId": "49312ceb-2505-4cc1-bf86-c50f60cb0a95"
      },
      "source": [
        "XGBoost_Estimators(50,X_train,y_train)"
      ],
      "execution_count": null,
      "outputs": [
        {
          "output_type": "stream",
          "text": [
            "Estimator  Train ACU  CV auc\n",
            "50 \t 0.6014637799385296 0.5933572806740035\n"
          ],
          "name": "stdout"
        }
      ]
    },
    {
      "cell_type": "code",
      "metadata": {
        "colab": {
          "base_uri": "https://localhost:8080/"
        },
        "id": "36qCRExHDFKs",
        "outputId": "c3217be8-daa0-44de-d366-7767c27e3024"
      },
      "source": [
        "XGBoost_Estimators(100,X_train,y_train)"
      ],
      "execution_count": null,
      "outputs": [
        {
          "output_type": "stream",
          "text": [
            "Estimator  Train ACU  CV auc\n",
            "100 \t 0.6125178223234868 0.5962680348668511\n"
          ],
          "name": "stdout"
        }
      ]
    },
    {
      "cell_type": "code",
      "metadata": {
        "colab": {
          "base_uri": "https://localhost:8080/"
        },
        "id": "s5CcE5TWDFNT",
        "outputId": "126a60a7-9404-4cad-dc35-be82c64cb8a8"
      },
      "source": [
        "XGBoost_Estimators(150,X_train,y_train)"
      ],
      "execution_count": null,
      "outputs": [
        {
          "output_type": "stream",
          "text": [
            "Estimator  Train ACU  CV auc\n",
            "150 \t 0.6189332505664534 0.6016389654444306\n"
          ],
          "name": "stdout"
        }
      ]
    },
    {
      "cell_type": "code",
      "metadata": {
        "colab": {
          "base_uri": "https://localhost:8080/"
        },
        "id": "YsGRq_IeDFQE",
        "outputId": "9e772a0b-20ad-4e0e-e4c4-0f24b717f4fa"
      },
      "source": [
        "XGBoost_Estimators(200,X_train,y_train)"
      ],
      "execution_count": null,
      "outputs": [
        {
          "output_type": "stream",
          "text": [
            "Estimator  Train ACU  CV auc\n",
            "200 \t 0.6247981831891583 0.6012021543247924\n"
          ],
          "name": "stdout"
        }
      ]
    },
    {
      "cell_type": "markdown",
      "metadata": {
        "id": "4tFIGCvQDw_S"
      },
      "source": [
        "### Depth"
      ]
    },
    {
      "cell_type": "code",
      "metadata": {
        "id": "F1FTzcMZDFSd"
      },
      "source": [
        "def XGBoost_depth(X_tr,y_train) :\n",
        "\n",
        "  print('Depth  Train ACU ','CV auc')\n",
        "\n",
        "  depths = [3,6]\n",
        "\n",
        "  # learning rate = .3\n",
        "  # estimators = 150\n",
        "\n",
        "  for i in depths :\n",
        "\n",
        "    model = XGBClassifier(learning_rate=.3,n_estimators=150,n_jobs=-1,max_depth=i)\n",
        "    model.fit(X_tr,y_train)\n",
        "    y_train_pred = batch_predict(model, X_tr)    \n",
        "    y_cv_pred = batch_predict(model, X_cv)\n",
        "\n",
        "    print(i,'\\t',roc_auc_score(y_train,y_train_pred),roc_auc_score(y_cv, y_cv_pred))"
      ],
      "execution_count": null,
      "outputs": []
    },
    {
      "cell_type": "code",
      "metadata": {
        "colab": {
          "base_uri": "https://localhost:8080/"
        },
        "id": "YDiNupyCD1Wu",
        "outputId": "472227a9-a2f4-4c25-f872-7ea458aebcea"
      },
      "source": [
        "XGBoost_depth(X_train,y_train)"
      ],
      "execution_count": null,
      "outputs": [
        {
          "output_type": "stream",
          "text": [
            "Depth  Train ACU  CV auc\n",
            "3 \t 0.6193949235506246 0.600328480674337\n",
            "6 \t 0.6992829830773801 0.5866372657500931\n"
          ],
          "name": "stdout"
        }
      ]
    },
    {
      "cell_type": "markdown",
      "metadata": {
        "id": "djNs3Iy5EBuk"
      },
      "source": [
        "### Gamma"
      ]
    },
    {
      "cell_type": "code",
      "metadata": {
        "id": "f933NKwcEDWZ"
      },
      "source": [
        "def XGBoost_Gamma(X_tr,y_train) :\n",
        "\n",
        "  print('Gamma  Train ACU ','CV auc')\n",
        "\n",
        "  gamma = [.1,.2]\n",
        "\n",
        "  # learning rate = .3\n",
        "  # estimators = 150\n",
        "  # depth = 3\n",
        "\n",
        "  for i in gamma :\n",
        "\n",
        "    model = XGBClassifier(learning_rate=.3,n_estimators=150,n_jobs=-1,max_depth=3,gamma=i)\n",
        "    model.fit(X_tr,y_train)\n",
        "    \n",
        "    y_train_pred = batch_predict(model, X_tr)    \n",
        "    y_cv_pred = batch_predict(model, X_cv)\n",
        "\n",
        "    print(i,'\\t',roc_auc_score(y_train,y_train_pred),roc_auc_score(y_cv, y_cv_pred))"
      ],
      "execution_count": null,
      "outputs": []
    },
    {
      "cell_type": "code",
      "metadata": {
        "colab": {
          "base_uri": "https://localhost:8080/"
        },
        "id": "LMCMAecaEDY2",
        "outputId": "5e5d4c53-64b0-4b6b-97df-ad3e2e74685c"
      },
      "source": [
        "XGBoost_Gamma(X_train,y_train)"
      ],
      "execution_count": null,
      "outputs": [
        {
          "output_type": "stream",
          "text": [
            "Gamma  Train ACU  CV auc\n",
            "0.1 \t 0.6191096120193209 0.6007508722211479\n",
            "0.2 \t 0.6191096120193209 0.6007508722211479\n"
          ],
          "name": "stdout"
        }
      ]
    },
    {
      "cell_type": "markdown",
      "metadata": {
        "id": "Wewb-V6JEV5G"
      },
      "source": [
        "### Best Model"
      ]
    },
    {
      "cell_type": "code",
      "metadata": {
        "id": "_n14JnBwtLF0"
      },
      "source": [
        "def best_model(model) :\n",
        "\n",
        "  model.fit(X_train, y_train)\n",
        "\n",
        "  y_train_pred = batch_predict(model, X_train)    \n",
        "  y_test_pred = batch_predict(model, X_test)\n",
        "\n",
        "  train_fpr, train_tpr, tr_thresholds = roc_curve(y_train, y_train_pred)\n",
        "  test_fpr, test_tpr, te_thresholds = roc_curve(y_test, y_test_pred)\n",
        "\n",
        "  plt.plot(train_fpr, train_tpr, label=\"train AUC =\"+str(auc(train_fpr, train_tpr)))\n",
        "  plt.plot(test_fpr, test_tpr, label=\"test AUC =\"+str(auc(test_fpr, test_tpr)))\n",
        "  plt.legend()\n",
        "  plt.xlabel(\"hyperparameter\")\n",
        "  plt.ylabel(\"AUC\")\n",
        "  plt.title(\"ERROR PLOTS\")\n",
        "  plt.grid()\n",
        "  plt.show()\n",
        "\n",
        "\n",
        "  print(\"=\"*100)\n",
        "  best_t = find_best_threshold(tr_thresholds, train_fpr, train_tpr)\n",
        "\n",
        "  print('Best threshold ',best_t)\n",
        "  print(\"Train confusion matrix\")\n",
        "  print(confusion_matrix(y_train, predict_with_best_t(y_train_pred, best_t)))\n",
        "  print(\"Test confusion matrix\")\n",
        "  print(confusion_matrix(y_test, predict_with_best_t(y_test_pred, best_t)))\n",
        "\n",
        "  tn ,fp,fn,tp = confusion_matrix(y_test, predict_with_best_t(y_test_pred, best_t)).ravel()\n",
        "\n",
        "  recall = tp / (tp+fn)\n",
        "  precision = tp/(tp+fp)\n",
        "\n",
        "  print('\\nRecall ',recall)\n",
        "  print('\\nPrecision',precision)\n",
        "  print('\\nF1 Score',f1_score(y_test, predict_with_best_t(y_test_pred, best_t),average='macro'))\n",
        "\n",
        "  return model"
      ],
      "execution_count": null,
      "outputs": []
    },
    {
      "cell_type": "code",
      "metadata": {
        "id": "W4n3Cnt3SfZY"
      },
      "source": [
        "# learning rate = .3\n",
        "# estimators = 150\n",
        "# depth = 3\n",
        "\n",
        "xgb_model = XGBClassifier(learning_rate=.3,n_estimators=150,n_jobs=-1,max_depth=3,gamma=0)"
      ],
      "execution_count": null,
      "outputs": []
    },
    {
      "cell_type": "code",
      "metadata": {
        "colab": {
          "base_uri": "https://localhost:8080/",
          "height": 556
        },
        "id": "KGHiIPprtSzD",
        "outputId": "ecac6642-2d21-4f29-aca7-d144f03475f4"
      },
      "source": [
        "xgb_model = best_model(xgb_model)"
      ],
      "execution_count": null,
      "outputs": [
        {
          "output_type": "display_data",
          "data": {
            "image/png": "[encoded data removed]",
            "text/plain": [
              "<Figure size 432x288 with 1 Axes>"
            ]
          },
          "metadata": {
            "tags": [],
            "needs_background": "light"
          }
        },
        {
          "output_type": "stream",
          "text": [
            "====================================================================================================\n",
            "the maximum value of tpr*(1-fpr) 0.3413973335738164 for threshold 0.494\n",
            "Best threshold  0.49391156\n",
            "Train confusion matrix\n",
            "[[204621 145388]\n",
            " [145607 204383]]\n",
            "Test confusion matrix\n",
            "[[32277 24463]\n",
            " [23755 32985]]\n",
            "\n",
            "Recall  0.5813359182234755\n",
            "\n",
            "Precision 0.5741714245926751\n",
            "\n",
            "F1 Score 0.5750803934135935\n"
          ],
          "name": "stdout"
        }
      ]
    },
    {
      "cell_type": "code",
      "metadata": {
        "id": "xUCy147bhKzS"
      },
      "source": [
        "#SAVE the best model trained\n",
        "\n",
        "pickle.dump(xgb_model,open(\"xgb.pkl\", 'wb'))"
      ],
      "execution_count": null,
      "outputs": []
    },
    {
      "cell_type": "markdown",
      "metadata": {
        "id": "3r2ACmlMGXSY"
      },
      "source": [
        "## 3 Feed Forward Neural Network"
      ]
    },
    {
      "cell_type": "code",
      "metadata": {
        "id": "Ihm-NyVrHETU"
      },
      "source": [
        "def auc(y_true, y_pred):\n",
        "    return tf.py_function(roc_auc_score, (y_true, y_pred), tf.double)"
      ],
      "execution_count": null,
      "outputs": []
    },
    {
      "cell_type": "code",
      "metadata": {
        "id": "Nr_rkLqjHGFA"
      },
      "source": [
        "from keras import backend as K\n",
        "\n",
        "def recall(y_true, y_pred):\n",
        "    true_positives = K.sum(K.round(K.clip(y_true * y_pred, 0, 1)))\n",
        "    possible_positives = K.sum(K.round(K.clip(y_true, 0, 1)))\n",
        "    recall_ = true_positives / (possible_positives + K.epsilon())\n",
        "    return recall_\n",
        "\n",
        "def precision(y_true, y_pred):\n",
        "    true_positives = K.sum(K.round(K.clip(y_true * y_pred, 0, 1)))\n",
        "    predicted_positives = K.sum(K.round(K.clip(y_pred, 0, 1)))\n",
        "    precision_ = true_positives / (predicted_positives + K.epsilon())\n",
        "    return precision_\n",
        "\n",
        "def f1(y_true, y_pred):\n",
        "    precision_ = precision(y_true, y_pred)\n",
        "    recall_ = recall(y_true, y_pred)\n",
        "    return 2*((precision_*recall_)/(precision_+recall_+K.epsilon()))\n"
      ],
      "execution_count": null,
      "outputs": []
    },
    {
      "cell_type": "code",
      "metadata": {
        "id": "uQ35h0_tGcl6"
      },
      "source": [
        "input = Input(shape = (768,))\n",
        "\n",
        "x = Dense(512,activation='relu') (input)\n",
        "x = BatchNormalization()(x)\n",
        "x = Dropout(.5)(x)\n",
        "\n",
        "x = Dense(128,activation='relu') (x)\n",
        "x = BatchNormalization()(x)\n",
        "x = Dropout(.5)(x)\n",
        "\n",
        "x = Dense(64,activation='relu') (x)\n",
        "x = BatchNormalization()(x)\n",
        "x = Dropout(.5)(x)\n",
        "\n",
        "x = Dense(32,activation='relu') (x)\n",
        "x = BatchNormalization()(x)\n",
        "x = Dropout(.5)(x)\n",
        "\n",
        "x = Dense(16,activation='relu') (x)\n",
        "x = BatchNormalization()(x)\n",
        "x = Dropout(.5)(x)\n",
        "\n",
        "out = Dense(2,activation='softmax')(x)\n",
        "\n",
        "ffnn_model = Model(input,out)"
      ],
      "execution_count": null,
      "outputs": []
    },
    {
      "cell_type": "code",
      "metadata": {
        "colab": {
          "base_uri": "https://localhost:8080/",
          "height": 1000
        },
        "id": "6CX6RJ-aRcPR",
        "outputId": "184957b6-b992-4661-e264-37979f17c042"
      },
      "source": [
        "plot_model(ffnn_model)"
      ],
      "execution_count": null,
      "outputs": [
        {
          "output_type": "execute_result",
          "data": {
            "image/png": "[encoded data removed]",
            "text/plain": [
              "<IPython.core.display.Image object>"
            ]
          },
          "metadata": {
            "tags": []
          },
          "execution_count": 3
        }
      ]
    },
    {
      "cell_type": "code",
      "metadata": {
        "colab": {
          "base_uri": "https://localhost:8080/"
        },
        "id": "4LhP5GjzGh0G",
        "outputId": "04ccaacf-99b9-4886-8fbb-464a94d9b9c9"
      },
      "source": [
        "ffnn_model.summary()"
      ],
      "execution_count": null,
      "outputs": [
        {
          "output_type": "stream",
          "text": [
            "Model: \"model\"\n",
            "_________________________________________________________________\n",
            "Layer (type)                 Output Shape              Param #   \n",
            "=================================================================\n",
            "input_1 (InputLayer)         [(None, 768)]             0         \n",
            "_________________________________________________________________\n",
            "dense (Dense)                (None, 512)               393728    \n",
            "_________________________________________________________________\n",
            "batch_normalization (BatchNo (None, 512)               2048      \n",
            "_________________________________________________________________\n",
            "dropout (Dropout)            (None, 512)               0         \n",
            "_________________________________________________________________\n",
            "dense_1 (Dense)              (None, 128)               65664     \n",
            "_________________________________________________________________\n",
            "batch_normalization_1 (Batch (None, 128)               512       \n",
            "_________________________________________________________________\n",
            "dropout_1 (Dropout)          (None, 128)               0         \n",
            "_________________________________________________________________\n",
            "dense_2 (Dense)              (None, 64)                8256      \n",
            "_________________________________________________________________\n",
            "batch_normalization_2 (Batch (None, 64)                256       \n",
            "_________________________________________________________________\n",
            "dropout_2 (Dropout)          (None, 64)                0         \n",
            "_________________________________________________________________\n",
            "dense_3 (Dense)              (None, 32)                2080      \n",
            "_________________________________________________________________\n",
            "batch_normalization_3 (Batch (None, 32)                128       \n",
            "_________________________________________________________________\n",
            "dropout_3 (Dropout)          (None, 32)                0         \n",
            "_________________________________________________________________\n",
            "dense_4 (Dense)              (None, 16)                528       \n",
            "_________________________________________________________________\n",
            "batch_normalization_4 (Batch (None, 16)                64        \n",
            "_________________________________________________________________\n",
            "dropout_4 (Dropout)          (None, 16)                0         \n",
            "_________________________________________________________________\n",
            "dense_5 (Dense)              (None, 2)                 34        \n",
            "=================================================================\n",
            "Total params: 473,298\n",
            "Trainable params: 471,794\n",
            "Non-trainable params: 1,504\n",
            "_________________________________________________________________\n"
          ],
          "name": "stdout"
        }
      ]
    },
    {
      "cell_type": "code",
      "metadata": {
        "id": "9VRWPIJXG4aU"
      },
      "source": [
        "ffnn_model.compile(loss='categorical_crossentropy', optimizer='adam', metrics=['acc',auc,f1,precision, recall])"
      ],
      "execution_count": null,
      "outputs": []
    },
    {
      "cell_type": "code",
      "metadata": {
        "colab": {
          "base_uri": "https://localhost:8080/"
        },
        "id": "4UVAfn7lIcM8",
        "outputId": "11038d0b-c829-46d0-9a96-4bd7a3df5d62"
      },
      "source": [
        "ffnn_model.fit(X_train,to_categorical(y_train), batch_size=128,\n",
        "          epochs=15, validation_data=(X_test,to_categorical(y_test)))"
      ],
      "execution_count": null,
      "outputs": [
        {
          "output_type": "stream",
          "text": [
            "Epoch 1/15\n",
            "5469/5469 [==============================] - 38s 7ms/step - loss: 0.7204 - acc: 0.5063 - auc: 0.5079 - f1: 0.5063 - precision: 0.5063 - recall: 0.5063 - val_loss: 0.6888 - val_acc: 0.5354 - val_auc: 0.5807 - val_f1: 0.5354 - val_precision: 0.5354 - val_recall: 0.5354\n",
            "Epoch 2/15\n",
            "5469/5469 [==============================] - 35s 6ms/step - loss: 0.6853 - acc: 0.5558 - auc: 0.5739 - f1: 0.5558 - precision: 0.5558 - recall: 0.5558 - val_loss: 0.6866 - val_acc: 0.5432 - val_auc: 0.5912 - val_f1: 0.5432 - val_precision: 0.5432 - val_recall: 0.5432\n",
            "Epoch 3/15\n",
            "5469/5469 [==============================] - 35s 6ms/step - loss: 0.6827 - acc: 0.5623 - auc: 0.5841 - f1: 0.5623 - precision: 0.5623 - recall: 0.5623 - val_loss: 0.6912 - val_acc: 0.5416 - val_auc: 0.5967 - val_f1: 0.5416 - val_precision: 0.5416 - val_recall: 0.5416\n",
            "Epoch 4/15\n",
            "5469/5469 [==============================] - 35s 6ms/step - loss: 0.6818 - acc: 0.5646 - auc: 0.5879 - f1: 0.5646 - precision: 0.5646 - recall: 0.5646 - val_loss: 0.6822 - val_acc: 0.5572 - val_auc: 0.6009 - val_f1: 0.5572 - val_precision: 0.5572 - val_recall: 0.5572\n",
            "Epoch 5/15\n",
            "5469/5469 [==============================] - 35s 6ms/step - loss: 0.6806 - acc: 0.5668 - auc: 0.5919 - f1: 0.5668 - precision: 0.5668 - recall: 0.5668 - val_loss: 0.6776 - val_acc: 0.5715 - val_auc: 0.6022 - val_f1: 0.5715 - val_precision: 0.5715 - val_recall: 0.5715\n",
            "Epoch 6/15\n",
            "5469/5469 [==============================] - 35s 6ms/step - loss: 0.6800 - acc: 0.5676 - auc: 0.5935 - f1: 0.5676 - precision: 0.5676 - recall: 0.5676 - val_loss: 0.6841 - val_acc: 0.5560 - val_auc: 0.5967 - val_f1: 0.5560 - val_precision: 0.5560 - val_recall: 0.5560\n",
            "Epoch 7/15\n",
            "5469/5469 [==============================] - 35s 6ms/step - loss: 0.6796 - acc: 0.5680 - auc: 0.5950 - f1: 0.5680 - precision: 0.5680 - recall: 0.5680 - val_loss: 0.6772 - val_acc: 0.5708 - val_auc: 0.6030 - val_f1: 0.5708 - val_precision: 0.5708 - val_recall: 0.5708\n",
            "Epoch 8/15\n",
            "5469/5469 [==============================] - 35s 6ms/step - loss: 0.6794 - acc: 0.5698 - auc: 0.5953 - f1: 0.5698 - precision: 0.5698 - recall: 0.5698 - val_loss: 0.6760 - val_acc: 0.5701 - val_auc: 0.6054 - val_f1: 0.5701 - val_precision: 0.5701 - val_recall: 0.5701\n",
            "Epoch 9/15\n",
            "5469/5469 [==============================] - 36s 7ms/step - loss: 0.6788 - acc: 0.5707 - auc: 0.5977 - f1: 0.5707 - precision: 0.5707 - recall: 0.5707 - val_loss: 0.6809 - val_acc: 0.5609 - val_auc: 0.6046 - val_f1: 0.5610 - val_precision: 0.5610 - val_recall: 0.5610\n",
            "Epoch 10/15\n",
            "5469/5469 [==============================] - 35s 6ms/step - loss: 0.6784 - acc: 0.5702 - auc: 0.5984 - f1: 0.5702 - precision: 0.5702 - recall: 0.5702 - val_loss: 0.7021 - val_acc: 0.5071 - val_auc: 0.5914 - val_f1: 0.5071 - val_precision: 0.5071 - val_recall: 0.5071\n",
            "Epoch 11/15\n",
            "5469/5469 [==============================] - 35s 6ms/step - loss: 0.6783 - acc: 0.5707 - auc: 0.5992 - f1: 0.5707 - precision: 0.5707 - recall: 0.5707 - val_loss: 0.6793 - val_acc: 0.5668 - val_auc: 0.6052 - val_f1: 0.5668 - val_precision: 0.5668 - val_recall: 0.5668\n",
            "Epoch 12/15\n",
            "5469/5469 [==============================] - 35s 6ms/step - loss: 0.6784 - acc: 0.5718 - auc: 0.5990 - f1: 0.5718 - precision: 0.5718 - recall: 0.5718 - val_loss: 0.6763 - val_acc: 0.5736 - val_auc: 0.6067 - val_f1: 0.5736 - val_precision: 0.5736 - val_recall: 0.5736\n",
            "Epoch 13/15\n",
            "5469/5469 [==============================] - 35s 6ms/step - loss: 0.6781 - acc: 0.5720 - auc: 0.5999 - f1: 0.5720 - precision: 0.5720 - recall: 0.5720 - val_loss: 0.6761 - val_acc: 0.5750 - val_auc: 0.6067 - val_f1: 0.5750 - val_precision: 0.5750 - val_recall: 0.5750\n",
            "Epoch 14/15\n",
            "5469/5469 [==============================] - 35s 6ms/step - loss: 0.6782 - acc: 0.5715 - auc: 0.5993 - f1: 0.5715 - precision: 0.5715 - recall: 0.5715 - val_loss: 0.6797 - val_acc: 0.5645 - val_auc: 0.6065 - val_f1: 0.5645 - val_precision: 0.5645 - val_recall: 0.5645\n",
            "Epoch 15/15\n",
            "5469/5469 [==============================] - 35s 6ms/step - loss: 0.6779 - acc: 0.5722 - auc: 0.6000 - f1: 0.5722 - precision: 0.5722 - recall: 0.5722 - val_loss: 0.6892 - val_acc: 0.5371 - val_auc: 0.6082 - val_f1: 0.5372 - val_precision: 0.5372 - val_recall: 0.5372\n"
          ],
          "name": "stdout"
        },
        {
          "output_type": "execute_result",
          "data": {
            "text/plain": [
              "<tensorflow.python.keras.callbacks.History at 0x7fe4d1c957d0>"
            ]
          },
          "metadata": {
            "tags": []
          },
          "execution_count": 46
        }
      ]
    },
    {
      "cell_type": "markdown",
      "metadata": {
        "id": "qaLtBku0PypU"
      },
      "source": [
        "##4  Summary\n",
        "\n",
        "XGBOOST :\n",
        "\n",
        "auc = 60.7         recall  0.5813\n",
        "precision 0.574    f1 Score 0.57\n",
        "\n",
        "Feed forward neural network :\n",
        "\n",
        "auc: 0.6082        recall: 0.5372     \n",
        "precision: 0.5372  f1: 0.5372 \n",
        "\n",
        "\n",
        "XGboost performs better in comparsion with FFNN"
      ]
    }
  ]
}