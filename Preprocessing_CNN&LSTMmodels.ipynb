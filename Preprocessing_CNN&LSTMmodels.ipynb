{
  "nbformat": 4,
  "nbformat_minor": 0,
  "metadata": {
    "accelerator": "GPU",
    "colab": {
      "name": "cs2.ipynb",
      "provenance": [],
      "collapsed_sections": []
    },
    "kernelspec": {
      "display_name": "Python 3",
      "name": "python3"
    }
  },
  "cells": [
    {
      "cell_type": "markdown",
      "metadata": {
        "id": "Y6mPrIFRTAL0"
      },
      "source": [
        "## Contents \n",
        "\n",
        "1 Task  \n",
        "\n",
        "2 Unzip data\n",
        "\n",
        "3 Load Data from XML files\n",
        "\n",
        "4 Create Train and test Dataframe\n",
        "\n",
        "5 Preprocessing\n",
        "\n",
        "    1 Why not to remove special characters \n",
        "    2 why not to remove stop words\n",
        "\n",
        "6 EDA\n",
        "    \n",
        "    1 class label\n",
        "    2 Sentence Length\n",
        "    3 Vocabolary analysis\n",
        "    4 word length\n",
        "\n",
        "7 Metrics\n",
        "\n",
        "8 CNN based Model\n",
        "\n",
        "    * Architecture 1 \n",
        "    * Architecture 2\n",
        "\n",
        "9 LSTM based model \n",
        "\n",
        "    * Tokenization \n",
        "    * Metrics \n",
        "    * LSTM Model\n",
        "    * LSTM with attention Model\n",
        "    * Bi-LSTM Model\n",
        "    * Bi-LSTM with attention Model\n",
        "\n",
        "10  Model summary\n",
        "\n",
        "11 ALBERT model"
      ]
    },
    {
      "cell_type": "code",
      "metadata": {
        "id": "7zvR8wI6klfz"
      },
      "source": [
        "from bs4 import BeautifulSoup \n",
        "import re\n",
        "import pandas as pd\n",
        "from sklearn.utils import shuffle\n",
        "from numpy import array\n",
        "from numpy import asarray\n",
        "from numpy import zeros\n",
        "import warnings\n",
        "import numpy as np\n",
        "warnings.filterwarnings(\"ignore\")\n",
        "import seaborn as sns\n",
        "from keras.utils import to_categorical\n",
        "from keras.preprocessing.text import Tokenizer\n",
        "from keras.preprocessing.sequence import pad_sequences\n",
        "from keras.layers import Dense,Input,BatchNormalization,LSTM\n",
        "from keras.layers import Flatten ,Dropout\n",
        "from keras.layers import Embedding\n",
        "from keras.models import Model\n",
        "from keras.utils import to_categorical\n",
        "from keras.utils import plot_model\n",
        "from sklearn.metrics import roc_auc_score, auc\n",
        "from keras.layers import Bidirectional\n",
        "from collections import Counter\n",
        "from sklearn.metrics import classification_report, confusion_matrix\n",
        "from keras.layers import Dense , Conv1D,Input\n",
        "from keras.layers import MaxPooling1D,GlobalMaxPooling1D\n",
        "from keras.layers import  concatenate\n",
        "import tensorflow as tf\n",
        "import keras\n",
        "from keras.optimizers import Adam\n",
        "import tensorflow as tf\n",
        "from keras.utils import plot_model\n",
        "from keras.layers import Layer\n",
        "from sklearn.metrics import roc_auc_score , f1_score\n",
        "import string"
      ],
      "execution_count": null,
      "outputs": []
    },
    {
      "cell_type": "markdown",
      "metadata": {
        "id": "GvfaNrdzS_bs"
      },
      "source": [
        "## 1 Task\n",
        "\n",
        "Given a sentence classify the sentence into one of the two class\n",
        "\n",
        " 1 no-edit i.e. the sentence is correct and contains no mistake\n",
        "\n",
        " 2 edit    i.e. the sentence is incorrect\n",
        "  "
      ]
    },
    {
      "cell_type": "code",
      "metadata": {
        "colab": {
          "base_uri": "https://localhost:8080/"
        },
        "id": "ihb03CZkBgYD",
        "outputId": "603f45b4-0344-42b5-f5a7-73f3174a8852"
      },
      "source": [
        "!wget --header 'Host: textmining.lt' --user-agent 'Mozilla/5.0 (Macintosh; Intel Mac OS X 10.15; rv:87.0) Gecko/20100101 Firefox/87.0' --header 'Accept: text/html,application/xhtml+xml,application/xml;q=0.9,image/webp,*/*;q=0.8' --header 'Accept-Language: en-US,en;q=0.5' --referer 'http://textmining.lt/aesw/aesw2016down.html' --header 'Upgrade-Insecure-Requests: 1' 'http://textmining.lt/aesw/aesw2016(v1.2)_train.xml.bz2' --output-document 'aesw2016(v1.2)_train.xml.bz2'"
      ],
      "execution_count": null,
      "outputs": [
        {
          "output_type": "stream",
          "text": [
            "--2021-04-19 07:26:40--  http://textmining.lt/aesw/aesw2016(v1.2)_train.xml.bz2\n",
            "Resolving textmining.lt (textmining.lt)... 79.98.27.56\n",
            "Connecting to textmining.lt (textmining.lt)|79.98.27.56|:80... connected.\n",
            "HTTP request sent, awaiting response... 200 OK\n",
            "Length: 43751529 (42M) [application/x-bzip2]\n",
            "Saving to: ‘aesw2016(v1.2)_train.xml.bz2’\n",
            "\n",
            "aesw2016(v1.2)_trai 100%[===================>]  41.72M  4.04MB/s    in 17s     \n",
            "\n",
            "2021-04-19 07:26:59 (2.39 MB/s) - ‘aesw2016(v1.2)_train.xml.bz2’ saved [43751529/43751529]\n",
            "\n"
          ],
          "name": "stdout"
        }
      ]
    },
    {
      "cell_type": "markdown",
      "metadata": {
        "id": "f7Wo8UFKjEL6"
      },
      "source": [
        "##2  Unzip data"
      ]
    },
    {
      "cell_type": "code",
      "metadata": {
        "colab": {
          "base_uri": "https://localhost:8080/"
        },
        "id": "68mZjPZYIZn7",
        "outputId": "10b1f88d-35e0-4907-954e-336394b149c2"
      },
      "source": [
        "!wget --header 'Host: textmining.lt' --user-agent 'Mozilla/5.0 (Macintosh; Intel Mac OS X 10.15; rv:87.0) Gecko/20100101 Firefox/87.0' --header 'Accept: text/html,application/xhtml+xml,application/xml;q=0.9,image/webp,*/*;q=0.8' --header 'Accept-Language: en-US,en;q=0.5' --referer 'http://textmining.lt/aesw/aesw2016down.html' --header 'Upgrade-Insecure-Requests: 1' 'http://textmining.lt/aesw/aesw2016(v1.2)_train.xml.bz2' --output-document 'aesw2016(v1.2)_train.xml.bz2'"
      ],
      "execution_count": null,
      "outputs": [
        {
          "output_type": "stream",
          "text": [
            "--2021-04-19 07:56:45--  http://textmining.lt/aesw/aesw2016(v1.2)_train.xml.bz2\n",
            "Resolving textmining.lt (textmining.lt)... 79.98.27.56\n",
            "Connecting to textmining.lt (textmining.lt)|79.98.27.56|:80... connected.\n",
            "HTTP request sent, awaiting response... 200 OK\n",
            "Length: 43751529 (42M) [application/x-bzip2]\n",
            "Saving to: ‘aesw2016(v1.2)_train.xml.bz2’\n",
            "\n",
            "aesw2016(v1.2)_trai 100%[===================>]  41.72M  3.50MB/s    in 17s     \n",
            "\n",
            "2021-04-19 07:57:03 (2.49 MB/s) - ‘aesw2016(v1.2)_train.xml.bz2’ saved [43751529/43751529]\n",
            "\n"
          ],
          "name": "stdout"
        }
      ]
    },
    {
      "cell_type": "code",
      "metadata": {
        "id": "ClTZHXdmRM_N",
        "colab": {
          "base_uri": "https://localhost:8080/"
        },
        "outputId": "7b1408ef-3165-4cc4-f83c-84a29c3b7012"
      },
      "source": [
        "!bunzip2 '/content/aesw2016(v1.2)_train.xml.bz2'"
      ],
      "execution_count": null,
      "outputs": [
        {
          "output_type": "stream",
          "text": [
            "bunzip2: Output file /content/aesw2016(v1.2)_train.xml already exists.\n"
          ],
          "name": "stdout"
        }
      ]
    },
    {
      "cell_type": "code",
      "metadata": {
        "id": "Jw3TnW-ZYObw",
        "colab": {
          "base_uri": "https://localhost:8080/"
        },
        "outputId": "005e81e2-bd54-4b9c-bd2b-fa20d73a15d1"
      },
      "source": [
        "!unzip '/content/aesw2016(v1.2)_test.xml.zip'"
      ],
      "execution_count": null,
      "outputs": [
        {
          "output_type": "stream",
          "text": [
            "Archive:  /content/aesw2016(v1.2)_test.xml.zip\n",
            "  inflating: aesw2016(v1.2)_test.xml  \n"
          ],
          "name": "stdout"
        }
      ]
    },
    {
      "cell_type": "markdown",
      "metadata": {
        "id": "fkd2Ok5zjI3Z"
      },
      "source": [
        "##3 Load Data from XML files"
      ]
    },
    {
      "cell_type": "markdown",
      "metadata": {
        "id": "r0FCyl3uTvsF"
      },
      "source": [
        "\n",
        "\n",
        "Dataset Website Link : http://textmining.lt/aesw/\n",
        "\n",
        "http://textmining.lt/aesw/aesw2016down.html\n",
        "\n",
        "<br>\n",
        "\n",
        "The data is in XML format and each sentence contains 3 tags\n",
        "\n",
        "           1 < sentence> with sentence ID at the start and end of sentence\n",
        "\n",
        "           2 < ins> tag in between sentence\n",
        "\n",
        "           3 < del> tags in between the sentence\n",
        "           \n"
      ]
    },
    {
      "cell_type": "code",
      "metadata": {
        "id": "XSDiEsDQVnJQ"
      },
      "source": [
        "EXAMPLE :\n",
        "\n",
        "\n",
        "<sentence sid=1>The schedule timetable acts as a manager that <del>control</del> <ins>controls</ins> information traffic</sentence>"
      ],
      "execution_count": null,
      "outputs": []
    },
    {
      "cell_type": "markdown",
      "metadata": {
        "id": "eOAm8GQEWN1D"
      },
      "source": [
        "After Extracting sentences using BeautifulSoup Fom XML file , we get\n",
        "\n",
        "\n",
        "\n",
        "    => The schedule timetable acts as a manager that < del> control < /del > < ins>controls< /ins> information traffic\n",
        "\n",
        "which is converted into two sentences <br><br>\n",
        "\n",
        "    1 Remove del tag\n",
        "    => The schedule timetable acts as a manager that <ins>controls</ins> information traffic\n",
        "\n",
        "    i.e. the new sentence =>  The schedule timetable acts as a manager that controls information traffic\n",
        "\n",
        "\n",
        "    2 Remove ins tag \n",
        "    => The schedule timetable acts as a manager that <del> control </del> information traffic\n",
        "\n",
        "    i.e. the new sentence => The schedule timetable acts as a manager that control information traffic\n",
        "\n",
        "\n",
        "Sentence 1 belongs to Label 0 ( no-edit as it contains no mistakes)\n",
        "\n",
        "\n",
        "Sentence 2 belongs to Label 1 (edit as it contains misatake)"
      ]
    },
    {
      "cell_type": "code",
      "metadata": {
        "id": "3llP1dfbeS0L"
      },
      "source": [
        "def extract_sentences(path) :\n",
        "\n",
        "  with open(path, 'r') as f: \n",
        "      data = f.read() \n",
        "  \n",
        "  sentences = []\n",
        "\n",
        "  Bs_data = BeautifulSoup(data,\"xml\") \n",
        "  b_unique = Bs_data.find_all('sentence') \n",
        "\n",
        "  for item in b_unique :\n",
        "    sentences.append(item)\n",
        " \n",
        "  return sentences"
      ],
      "execution_count": null,
      "outputs": []
    },
    {
      "cell_type": "code",
      "metadata": {
        "id": "nXruMRC_h5J-"
      },
      "source": [
        "def process(sentences) :\n",
        "\n",
        "  class_edit = []\n",
        "  class_no_edit = []\n",
        "\n",
        "  for sentence in sentences :\n",
        "\n",
        "    string = str(sentence)\n",
        "    string = re.sub('<sentence sid=\".*?\">','',string) #Remove   <sentence> tag\n",
        "    string = re.sub('</sentence>','',string)          #Remove   </sentence> tag\n",
        "  \n",
        "    s1 = str(string)\n",
        "    s2 = str(string)\n",
        "\n",
        "    insert = s1.find('<ins>')\n",
        "    delete = s1.find('<del>')\n",
        "\n",
        "    if (insert==-1 and delete==-1) :             #if the sentence has no <ins> , <del> tag skip them\n",
        "          continue\n",
        "    \n",
        "    else :\n",
        "\n",
        "          s1 = re.sub('<del>.*?</del>','',s1)    #Remove data inbetween <del> ...</del> \n",
        "          s1 = re.sub('<ins>','',s1)             #and replace <ins> tag with white space\n",
        "          s1 = re.sub('</ins>','',s1) \n",
        "          s1 = s1.strip()\n",
        "\n",
        "\n",
        "          s2 = re.sub('<ins>.*?</ins>','',s2)     #Remove data inbetween <ins> ...</ins>\n",
        "          s2 = re.sub('<del>','',s2)             #and replace <del> tag with white space\n",
        "          s2 = re.sub('</del>','',s2) \n",
        "          s2 = s2.strip()\n",
        "\n",
        "\n",
        "          if s1==s2 :                            #To avoid adding same sentence to both class\n",
        "              continue                           #some sentences are like...   <ins>or</ins> <del>or</or>\n",
        "          \n",
        "          else :\n",
        "            class_no_edit.append(s1.lower())\n",
        "            class_edit.append(s2.lower())\n",
        "\n",
        "      \n",
        "  return class_edit,class_no_edit"
      ],
      "execution_count": null,
      "outputs": []
    },
    {
      "cell_type": "code",
      "metadata": {
        "colab": {
          "base_uri": "https://localhost:8080/"
        },
        "id": "-VsRuL4yMKC8",
        "outputId": "14268932-e864-486c-a63d-ce7ebcf148d5"
      },
      "source": [
        "train_sentences = extract_sentences('/content/aesw2016(v1.2)_train.xml')\n",
        "train_class_edit,train_class_no_edit = process(train_sentences)\n",
        "\n",
        "train_X = train_class_edit + train_class_no_edit\n",
        "\n",
        "print('Train Data')\n",
        "print('class  edit    : ',len(train_class_edit))\n",
        "print('class  no-edit : ',len(train_class_no_edit))\n",
        "print('Train data     : ',len(train_X))"
      ],
      "execution_count": null,
      "outputs": [
        {
          "output_type": "stream",
          "text": [
            "Train Data\n",
            "class  edit    :  466666\n",
            "class  no-edit :  466666\n",
            "Train data     :  933332\n"
          ],
          "name": "stdout"
        }
      ]
    },
    {
      "cell_type": "code",
      "metadata": {
        "id": "_fLnFr-CUNRI"
      },
      "source": [
        "test_sentences = extract_sentences('/content/aesw2016(v1.2)_test.xml')\n",
        "test_class_edit,test_class_no_edit = process(test_sentences)\n",
        "\n",
        "test_X = test_class_edit+test_class_no_edit\n",
        "\n",
        "print('Test Data')\n",
        "print('class  edit    : ',len(test_class_edit))\n",
        "print('class  no-edit : ',len(test_class_no_edit))\n",
        "print('Train data     : ',len(test_X))"
      ],
      "execution_count": null,
      "outputs": []
    },
    {
      "cell_type": "markdown",
      "metadata": {
        "id": "_hdx10fFgZ84"
      },
      "source": [
        "##4 Create Train and Test dataframe"
      ]
    },
    {
      "cell_type": "code",
      "metadata": {
        "id": "8yfQayOafw_H"
      },
      "source": [
        "#Create labels for train data\n",
        "\n",
        "train_y_edit = [1]*len(train_class_edit)\n",
        "train_y_no_edit = [0]* len(train_class_no_edit)\n",
        "\n",
        "train_y = train_y_edit + train_y_no_edit"
      ],
      "execution_count": null,
      "outputs": []
    },
    {
      "cell_type": "code",
      "metadata": {
        "id": "AG_468zqgJBG"
      },
      "source": [
        "#Create labels for test data\n",
        "\n",
        "test_y_edit = [1]* len(test_class_edit)\n",
        "test_y_no_edit = [0]* len(test_class_no_edit)\n",
        "\n",
        "test_y = test_y_edit + test_y_no_edit"
      ],
      "execution_count": null,
      "outputs": []
    },
    {
      "cell_type": "code",
      "metadata": {
        "id": "0osK7yvRgXdS"
      },
      "source": [
        "train = pd.DataFrame()\n",
        "train['data']=train_X\n",
        "train['class']=train_y\n",
        "\n",
        "train = train.sample(frac=1).reset_index(drop=True) #Shuffle Labels"
      ],
      "execution_count": null,
      "outputs": []
    },
    {
      "cell_type": "code",
      "metadata": {
        "id": "rKkscWt-iGEs"
      },
      "source": [
        "test = pd.DataFrame()\n",
        "test['data']=test_X\n",
        "test['class']=test_y\n",
        "\n",
        "test = test.sample(frac=1).reset_index(drop=True) #Shuffle Labels"
      ],
      "execution_count": null,
      "outputs": []
    },
    {
      "cell_type": "code",
      "metadata": {
        "colab": {
          "base_uri": "https://localhost:8080/",
          "height": 206
        },
        "id": "zmk5SlX-TuaP",
        "outputId": "84a2e054-f74d-4c20-c0bb-226da89671b4"
      },
      "source": [
        "train.head(5)"
      ],
      "execution_count": null,
      "outputs": [
        {
          "output_type": "execute_result",
          "data": {
            "text/html": [
              "<div>\n",
              "<style scoped>\n",
              "    .dataframe tbody tr th:only-of-type {\n",
              "        vertical-align: middle;\n",
              "    }\n",
              "\n",
              "    .dataframe tbody tr th {\n",
              "        vertical-align: top;\n",
              "    }\n",
              "\n",
              "    .dataframe thead th {\n",
              "        text-align: right;\n",
              "    }\n",
              "</style>\n",
              "<table border=\"1\" class=\"dataframe\">\n",
              "  <thead>\n",
              "    <tr style=\"text-align: right;\">\n",
              "      <th></th>\n",
              "      <th>data</th>\n",
              "      <th>class</th>\n",
              "    </tr>\n",
              "  </thead>\n",
              "  <tbody>\n",
              "    <tr>\n",
              "      <th>0</th>\n",
              "      <td>the production cross section for _math_- and _...</td>\n",
              "      <td>0</td>\n",
              "    </tr>\n",
              "    <tr>\n",
              "      <th>1</th>\n",
              "      <td>as eulers method has a simple, clear structure...</td>\n",
              "      <td>1</td>\n",
              "    </tr>\n",
              "    <tr>\n",
              "      <th>2</th>\n",
              "      <td>many entropy coding techniques exist in litera...</td>\n",
              "      <td>1</td>\n",
              "    </tr>\n",
              "    <tr>\n",
              "      <th>3</th>\n",
              "      <td>on the other hand, the boundary of _math_ is t...</td>\n",
              "      <td>1</td>\n",
              "    </tr>\n",
              "    <tr>\n",
              "      <th>4</th>\n",
              "      <td>theorem _ref_(i) demonstrates that when the ch...</td>\n",
              "      <td>0</td>\n",
              "    </tr>\n",
              "  </tbody>\n",
              "</table>\n",
              "</div>"
            ],
            "text/plain": [
              "                                                data  class\n",
              "0  the production cross section for _math_- and _...      0\n",
              "1  as eulers method has a simple, clear structure...      1\n",
              "2  many entropy coding techniques exist in litera...      1\n",
              "3  on the other hand, the boundary of _math_ is t...      1\n",
              "4  theorem _ref_(i) demonstrates that when the ch...      0"
            ]
          },
          "metadata": {
            "tags": []
          },
          "execution_count": 14
        }
      ]
    },
    {
      "cell_type": "markdown",
      "metadata": {
        "id": "xTNQMs_COOBg"
      },
      "source": [
        "## 5 Preprocessing"
      ]
    },
    {
      "cell_type": "markdown",
      "metadata": {
        "id": "csqssexFOnS9"
      },
      "source": [
        "Why not to remove Special Characters during preprocessing ?\n",
        "\n",
        "    Since the task is to identify senences which needs , the special characters  should not be removed in this task \n",
        " \n",
        "    Example from train data:\n",
        "\n",
        "\n",
        "   \n",
        "\n",
        "    "
      ]
    },
    {
      "cell_type": "code",
      "metadata": {
        "id": "79h7rcmZRIq0"
      },
      "source": [
        "using historical benchmarks is the easiest approach <ins> , </ins> but must be taken with care"
      ],
      "execution_count": null,
      "outputs": []
    },
    {
      "cell_type": "markdown",
      "metadata": {
        "id": "LA0XkikhRMEs"
      },
      "source": [
        "    This sentence will be converted as :\n",
        "\n",
        "    Needs edit => using historical benchmarks is the easiest approach but must be taken with care\n",
        "\n",
        "    Needs no edit => using historical benchmarks is the easiest approach, but must be taken with care\n",
        "\n",
        "    If in preprocessing and tokenization special characters like - , ;  ' are removed then both sentences becomes same"
      ]
    },
    {
      "cell_type": "markdown",
      "metadata": {
        "id": "A1Qq_Q9tR4C6"
      },
      "source": [
        "Why not to remove the Stopwords for this task ?\n",
        "\n",
        "    Stop words also should not be removed for this task because many sentences \n",
        "    needs edit sentences has missing stopwords such as 'is' , 'and' if \n",
        "    stopwrods are removed then both edit and no_edit sentences becomes equal"
      ]
    },
    {
      "cell_type": "code",
      "metadata": {
        "id": "VbI7RQ9IWhjH"
      },
      "source": [
        "#strip html tags from data if present \n",
        "\n",
        "import re\n",
        "def striphtml(data):\n",
        "    p = re.compile(r'<.*?>')\n",
        "    return p.sub(' ', data)"
      ],
      "execution_count": null,
      "outputs": []
    },
    {
      "cell_type": "code",
      "metadata": {
        "id": "DZZnJTX9OYmI"
      },
      "source": [
        "#remove URL's from data\n",
        "\n",
        "def replaceURL(data) :\n",
        "\n",
        "  data = re.sub(r'http\\S+',' ', data)\n",
        "\n",
        "  return data"
      ],
      "execution_count": null,
      "outputs": []
    },
    {
      "cell_type": "code",
      "metadata": {
        "id": "Zo3V_URlxN27"
      },
      "source": [
        "#The vocabolary has the following special words\n",
        "\n",
        "1 _math_        #_math_ corresponds to a mathematical equation\n",
        "2 _cite_        #coresponds to citation       \n",
        "3 _ref_,        #Corrresponds to reference\n",
        "4 _mathdisp_    #Corresponds to maths"
      ],
      "execution_count": null,
      "outputs": []
    },
    {
      "cell_type": "code",
      "metadata": {
        "id": "WrnlOYdvxFhP"
      },
      "source": [
        "import re\n",
        "def special_vocab(data):\n",
        "\n",
        "    \n",
        "    p = re.compile(r'_MATH_')\n",
        "    data =  p.sub(' math ', data)\n",
        "\n",
        "    p = re.compile(r'_MATHDISP_')\n",
        "    data =  p.sub(' math ', data)\n",
        "\n",
        "    p = re.compile(r'_REF_')\n",
        "    data =  p.sub(' ref ', data)\n",
        "\n",
        "    p = re.compile(r'_CITE_')\n",
        "    data =  p.sub(' cite ', data)\n",
        "\n",
        "    p = re.compile(r'_math_')\n",
        "    data =  p.sub(' math ', data)\n",
        "\n",
        "    p = re.compile(r'_mathdisp_')\n",
        "    data =  p.sub(' math ', data)\n",
        "\n",
        "    p = re.compile(r'_ref_')\n",
        "    data =  p.sub(' ref ', data)\n",
        "\n",
        "    p = re.compile(r'_cite_')\n",
        "    data =  p.sub(' cite ', data)\n",
        "\n",
        "    data = \" \".join(data.split())\n",
        "\n",
        "    return data"
      ],
      "execution_count": null,
      "outputs": []
    },
    {
      "cell_type": "markdown",
      "metadata": {
        "id": "yHPvIggBTlJv"
      },
      "source": [
        "Consider the following sentences\n",
        "\n",
        " 1  .... any pointer moves of the neighbors.\n",
        "\n",
        " 2  ... using historical benchmarks is the easiest approach, but must be taken with care\n",
        "\n",
        " when tokenization since there is no space between 'neighors' and ' . ' , we get ' neighbors. ' as a token\n",
        "\n",
        " smilarly, for 2nd sentence we get ' approach, ' as a token instead of ' approach ' and ' , ' as two separate token\n",
        "\n",
        " so insert space before and after special characters to separate them from words"
      ]
    },
    {
      "cell_type": "code",
      "metadata": {
        "id": "sh3k8wvCQpli"
      },
      "source": [
        "# vocab dictionary contains alphabets and numbers\n",
        "vocab ={}\n",
        "\n",
        "\n",
        "for i in string.ascii_letters :\n",
        "  vocab[i]=1\n",
        "\n",
        "numbers=\"0123456789\"\n",
        "\n",
        "for i in numbers :\n",
        "  vocab[i]=1"
      ],
      "execution_count": null,
      "outputs": []
    },
    {
      "cell_type": "code",
      "metadata": {
        "id": "gIX_0cNUNd4S"
      },
      "source": [
        "def special_character(data):\n",
        "\n",
        "    new_data = \"\"\n",
        "\n",
        "    for char in data :\n",
        "\n",
        "      if char==' ' :\n",
        "        new_data = new_data + ' '\n",
        "      \n",
        "      else :\n",
        "\n",
        "        if char not in vocab :        #If the character is not in vocab dictinaary , insert space infront and backs\n",
        "          new_data = new_data + ' ' + char + ' '\n",
        "        else :\n",
        "          new_data = new_data + char\n",
        "\n",
        "    new_data = \" \".join(new_data.split())\n",
        "\n",
        "    new_data = new_data.strip()\n",
        "\n",
        "\n",
        "    return new_data"
      ],
      "execution_count": null,
      "outputs": []
    },
    {
      "cell_type": "code",
      "metadata": {
        "id": "WpzThufsWD5F"
      },
      "source": [
        "def preprocess(df) :\n",
        "\n",
        "  text = []\n",
        "\n",
        "  for index , row in df.iterrows():\n",
        "    data = striphtml(row['data'])\n",
        "    data = replaceURL(data)\n",
        "    data  = special_vocab(data)\n",
        "    data = special_character(data)\n",
        "    text.append(data)\n",
        "\n",
        "  df['data']=text\n",
        "\n",
        "  return df"
      ],
      "execution_count": null,
      "outputs": []
    },
    {
      "cell_type": "code",
      "metadata": {
        "id": "DO_NqV0-WULL"
      },
      "source": [
        "train = preprocess(train)\n",
        "#test  = preprocess(test)"
      ],
      "execution_count": null,
      "outputs": []
    },
    {
      "cell_type": "code",
      "metadata": {
        "colab": {
          "base_uri": "https://localhost:8080/",
          "height": 206
        },
        "id": "YTlt9IxCe2l4",
        "outputId": "0b6a3540-5a62-42bb-e1ad-a21096251675"
      },
      "source": [
        "train.head()"
      ],
      "execution_count": null,
      "outputs": [
        {
          "output_type": "execute_result",
          "data": {
            "text/html": [
              "<div>\n",
              "<style scoped>\n",
              "    .dataframe tbody tr th:only-of-type {\n",
              "        vertical-align: middle;\n",
              "    }\n",
              "\n",
              "    .dataframe tbody tr th {\n",
              "        vertical-align: top;\n",
              "    }\n",
              "\n",
              "    .dataframe thead th {\n",
              "        text-align: right;\n",
              "    }\n",
              "</style>\n",
              "<table border=\"1\" class=\"dataframe\">\n",
              "  <thead>\n",
              "    <tr style=\"text-align: right;\">\n",
              "      <th></th>\n",
              "      <th>data</th>\n",
              "      <th>class</th>\n",
              "    </tr>\n",
              "  </thead>\n",
              "  <tbody>\n",
              "    <tr>\n",
              "      <th>0</th>\n",
              "      <td>the production cross section for math - and ma...</td>\n",
              "      <td>0</td>\n",
              "    </tr>\n",
              "    <tr>\n",
              "      <th>1</th>\n",
              "      <td>as eulers method has a simple , clear structur...</td>\n",
              "      <td>1</td>\n",
              "    </tr>\n",
              "    <tr>\n",
              "      <th>2</th>\n",
              "      <td>many entropy coding techniques exist in litera...</td>\n",
              "      <td>1</td>\n",
              "    </tr>\n",
              "    <tr>\n",
              "      <th>3</th>\n",
              "      <td>on the other hand , the boundary of math is th...</td>\n",
              "      <td>1</td>\n",
              "    </tr>\n",
              "    <tr>\n",
              "      <th>4</th>\n",
              "      <td>theorem ref ( i ) demonstrates that when the c...</td>\n",
              "      <td>0</td>\n",
              "    </tr>\n",
              "  </tbody>\n",
              "</table>\n",
              "</div>"
            ],
            "text/plain": [
              "                                                data  class\n",
              "0  the production cross section for math - and ma...      0\n",
              "1  as eulers method has a simple , clear structur...      1\n",
              "2  many entropy coding techniques exist in litera...      1\n",
              "3  on the other hand , the boundary of math is th...      1\n",
              "4  theorem ref ( i ) demonstrates that when the c...      0"
            ]
          },
          "metadata": {
            "tags": []
          },
          "execution_count": 22
        }
      ]
    },
    {
      "cell_type": "markdown",
      "metadata": {
        "id": "e03V7K5rFx80"
      },
      "source": [
        "##6 Exploratory Data Analysis"
      ]
    },
    {
      "cell_type": "markdown",
      "metadata": {
        "id": "j2UCzEhjLHfR"
      },
      "source": [
        "### Class Label"
      ]
    },
    {
      "cell_type": "code",
      "metadata": {
        "colab": {
          "base_uri": "https://localhost:8080/",
          "height": 296
        },
        "id": "7keFxcsDUBM0",
        "outputId": "c25383c3-ca75-42ff-b0b3-e7896872d66a"
      },
      "source": [
        "sns.countplot(data = train, x = 'class')"
      ],
      "execution_count": null,
      "outputs": [
        {
          "output_type": "execute_result",
          "data": {
            "text/plain": [
              "<matplotlib.axes._subplots.AxesSubplot at 0x7f88e5a05a50>"
            ]
          },
          "metadata": {
            "tags": []
          },
          "execution_count": 24
        },
        {
          "output_type": "display_data",
          "data": {
            "image/png": "[encoded data removed]",
            "text/plain": [
              "<Figure size 432x288 with 1 Axes>"
            ]
          },
          "metadata": {
            "tags": [],
            "needs_background": "light"
          }
        }
      ]
    },
    {
      "cell_type": "code",
      "metadata": {
        "colab": {
          "base_uri": "https://localhost:8080/",
          "height": 296
        },
        "id": "LuGmseohLKkW",
        "outputId": "3cf48c14-8fc9-4ea1-a44f-c6c3068b924a"
      },
      "source": [
        "sns.countplot(data = test, x = 'class')"
      ],
      "execution_count": null,
      "outputs": [
        {
          "output_type": "execute_result",
          "data": {
            "text/plain": [
              "<matplotlib.axes._subplots.AxesSubplot at 0x7f88e588b110>"
            ]
          },
          "metadata": {
            "tags": []
          },
          "execution_count": 25
        },
        {
          "output_type": "display_data",
          "data": {
            "image/png": "[encoded data removed]",
            "text/plain": [
              "<Figure size 432x288 with 1 Axes>"
            ]
          },
          "metadata": {
            "tags": [],
            "needs_background": "light"
          }
        }
      ]
    },
    {
      "cell_type": "code",
      "metadata": {
        "colab": {
          "base_uri": "https://localhost:8080/"
        },
        "id": "4yVtcFz-cjx_",
        "outputId": "e8cff795-200f-472f-cebb-46812c143733"
      },
      "source": [
        "train['class'].value_counts()"
      ],
      "execution_count": null,
      "outputs": [
        {
          "output_type": "execute_result",
          "data": {
            "text/plain": [
              "1    466666\n",
              "0    466666\n",
              "Name: class, dtype: int64"
            ]
          },
          "metadata": {
            "tags": []
          },
          "execution_count": 26
        }
      ]
    },
    {
      "cell_type": "code",
      "metadata": {
        "colab": {
          "base_uri": "https://localhost:8080/"
        },
        "id": "mb0CwpjNLOQ3",
        "outputId": "943ea3bf-2478-4639-f896-a0cde13c3cff"
      },
      "source": [
        "test['class'].value_counts()"
      ],
      "execution_count": null,
      "outputs": [
        {
          "output_type": "execute_result",
          "data": {
            "text/plain": [
              "1    56740\n",
              "0    56740\n",
              "Name: class, dtype: int64"
            ]
          },
          "metadata": {
            "tags": []
          },
          "execution_count": 27
        }
      ]
    },
    {
      "cell_type": "markdown",
      "metadata": {
        "id": "qkr2GQikchOM"
      },
      "source": [
        "Observation :\n",
        "\n",
        "1  The count plot data shows the data is balanced"
      ]
    },
    {
      "cell_type": "markdown",
      "metadata": {
        "id": "fe06ct7JLTP1"
      },
      "source": [
        "### Sentence Length"
      ]
    },
    {
      "cell_type": "code",
      "metadata": {
        "id": "Yj58NA6FMA23"
      },
      "source": [
        "import matplotlib.pyplot as plt\n",
        "import seaborn as sb"
      ],
      "execution_count": null,
      "outputs": []
    },
    {
      "cell_type": "code",
      "metadata": {
        "id": "CNAGD1hYk0rV"
      },
      "source": [
        "def Sentence_length(df,data) :\n",
        "\n",
        "    sentences_length = []\n",
        "\n",
        "    for sentence in data :\n",
        "      sentences_length.append(len(sentence))\n",
        "\n",
        "    sns.distplot(sentences_length)\n",
        "\n",
        "    plt.figure(figsize=(7,5))\n",
        "    df['length']=sentences_length\n",
        "    sb.boxplot(data=df,x='class',y='length')"
      ],
      "execution_count": null,
      "outputs": []
    },
    {
      "cell_type": "code",
      "metadata": {
        "colab": {
          "base_uri": "https://localhost:8080/",
          "height": 582
        },
        "id": "6BWEDkKGLiFa",
        "outputId": "95851a4a-d247-4f35-fabe-47454a8f143a"
      },
      "source": [
        "Sentence_length(train,train['data'])"
      ],
      "execution_count": null,
      "outputs": [
        {
          "output_type": "display_data",
          "data": {
            "image/png": "[encoded data removed]",
            "text/plain": [
              "<Figure size 432x288 with 1 Axes>"
            ]
          },
          "metadata": {
            "tags": [],
            "needs_background": "light"
          }
        },
        {
          "output_type": "display_data",
          "data": {
            "image/png": "[encoded data removed]",
            "text/plain": [
              "<Figure size 504x360 with 1 Axes>"
            ]
          },
          "metadata": {
            "tags": [],
            "needs_background": "light"
          }
        }
      ]
    },
    {
      "cell_type": "markdown",
      "metadata": {
        "id": "8zMrLjLwV-c2"
      },
      "source": [
        "Distribution Plot \n",
        "\n",
        "1 The plot on x axis streches upto 1750 but the peak is in between 0-300\n",
        "\n",
        "2 The distribution of data shows that most of the data lies between 0-300\n",
        "\n",
        "\n",
        "Box Plot \n",
        "\n",
        "1 The 25th , 50th and 75th percentile of class 1 are same in camparison with class 0\n"
      ]
    },
    {
      "cell_type": "code",
      "metadata": {
        "colab": {
          "base_uri": "https://localhost:8080/",
          "height": 582
        },
        "id": "faZp04LzMUGU",
        "outputId": "58b22bc9-cf81-4784-eb4f-2d3c2104dba2"
      },
      "source": [
        "Sentence_length(test,test['data'])"
      ],
      "execution_count": null,
      "outputs": [
        {
          "output_type": "display_data",
          "data": {
            "image/png": "[encoded data removed]",
            "text/plain": [
              "<Figure size 432x288 with 1 Axes>"
            ]
          },
          "metadata": {
            "tags": [],
            "needs_background": "light"
          }
        },
        {
          "output_type": "display_data",
          "data": {
            "image/png": "[encoded data removed]",
            "text/plain": [
              "<Figure size 504x360 with 1 Axes>"
            ]
          },
          "metadata": {
            "tags": [],
            "needs_background": "light"
          }
        }
      ]
    },
    {
      "cell_type": "markdown",
      "metadata": {
        "id": "onD6Cbe4WRyE"
      },
      "source": [
        "Distribution Plot \n",
        "\n",
        "1 The plot on x axis streches more than 1000 but the peak is in between 0-250\n",
        "\n",
        "2 The distribution of data shows that most of the data lies between 0-250\n",
        "\n",
        "\n",
        "Box Plot \n",
        "\n",
        "1 The 25th , 50th and 75th percentile of class 1 are same camparison with class 0\n"
      ]
    },
    {
      "cell_type": "markdown",
      "metadata": {
        "id": "15tZE0-RGYw1"
      },
      "source": [
        "### Vocabolary Analysis"
      ]
    },
    {
      "cell_type": "code",
      "metadata": {
        "id": "UjWi9UC0INZp"
      },
      "source": [
        "def vocab_analysis(data):\n",
        "  vocab = Counter()\n",
        "\n",
        "  for sentence in data :\n",
        "    sentence = sentence.split()  \n",
        "    vocab.update(sentence)\n",
        "    \n",
        "  return vocab"
      ],
      "execution_count": null,
      "outputs": []
    },
    {
      "cell_type": "code",
      "metadata": {
        "id": "PLQ1BGm-NU4E"
      },
      "source": [
        "train_vocab = vocab_analysis(train['data'])"
      ],
      "execution_count": null,
      "outputs": []
    },
    {
      "cell_type": "code",
      "metadata": {
        "colab": {
          "base_uri": "https://localhost:8080/"
        },
        "id": "7rARUnpdNrL4",
        "outputId": "655b189c-79ab-4477-be36-53593f2e7bea"
      },
      "source": [
        "train_vocab.most_common(20) #20 most common words in train vocab"
      ],
      "execution_count": null,
      "outputs": [
        {
          "output_type": "execute_result",
          "data": {
            "text/plain": [
              "[('the', 1874824),\n",
              " ('math', 1520285),\n",
              " (',', 1381552),\n",
              " ('.', 1139290),\n",
              " ('of', 841868),\n",
              " ('and', 652251),\n",
              " ('in', 525596),\n",
              " ('is', 472281),\n",
              " ('a', 447664),\n",
              " ('-', 434784),\n",
              " ('to', 431336),\n",
              " (')', 374394),\n",
              " ('(', 370628),\n",
              " ('for', 308252),\n",
              " ('that', 283097),\n",
              " ('we', 239898),\n",
              " ('ref', 236980),\n",
              " ('with', 190273),\n",
              " ('by', 186575),\n",
              " ('are', 178372)]"
            ]
          },
          "metadata": {
            "tags": []
          },
          "execution_count": 30
        }
      ]
    },
    {
      "cell_type": "code",
      "metadata": {
        "colab": {
          "base_uri": "https://localhost:8080/"
        },
        "id": "yK0rnpLxN0dr",
        "outputId": "20d68c26-08e8-4b75-ee43-4075cd9c9a87"
      },
      "source": [
        "print('Train Vocabolary Size ',len(train_vocab))\n",
        "\n",
        "new_vocab = [word for word in train_vocab if train_vocab[word]>1]   #greater one occurance \n",
        "\n",
        "print('Train Vocabolary Size (considering occurance greather than 1) ',len(new_vocab))\n",
        "\n",
        "new_vocab = [word for word in train_vocab if train_vocab[word]>2]   #greater two occurance\n",
        "\n",
        "print('Train Vocabolary Size (considering occurance greather than 2) ',len(new_vocab))\n"
      ],
      "execution_count": null,
      "outputs": [
        {
          "output_type": "stream",
          "text": [
            "Train Vocabolary Size  85767\n",
            "Train Vocabolary Size (considering occurance greather than 1)  76738\n",
            "Train Vocabolary Size (considering occurance greather than 2)  49563\n"
          ],
          "name": "stdout"
        }
      ]
    },
    {
      "cell_type": "code",
      "metadata": {
        "id": "fM0DxViYRaVB"
      },
      "source": [
        "test_vocab = vocab_analysis(test['data'])"
      ],
      "execution_count": null,
      "outputs": []
    },
    {
      "cell_type": "code",
      "metadata": {
        "colab": {
          "base_uri": "https://localhost:8080/"
        },
        "id": "KkJqi0UVReXW",
        "outputId": "905979b1-a909-4da6-f2af-fae7eea366ae"
      },
      "source": [
        "test_vocab.most_common(20) #20 most common words in test vocab"
      ],
      "execution_count": null,
      "outputs": [
        {
          "output_type": "execute_result",
          "data": {
            "text/plain": [
              "[('the', 232320),\n",
              " ('math', 185126),\n",
              " (',', 170590),\n",
              " ('.', 139997),\n",
              " ('of', 105965),\n",
              " ('and', 81318),\n",
              " ('in', 67207),\n",
              " ('is', 57269),\n",
              " ('a', 55150),\n",
              " ('-', 53785),\n",
              " ('to', 52914),\n",
              " (')', 46792),\n",
              " ('(', 46364),\n",
              " ('for', 37243),\n",
              " ('that', 35025),\n",
              " ('we', 29407),\n",
              " ('ref', 29368),\n",
              " ('with', 24443),\n",
              " ('by', 23793),\n",
              " ('as', 21783)]"
            ]
          },
          "metadata": {
            "tags": []
          },
          "execution_count": 33
        }
      ]
    },
    {
      "cell_type": "code",
      "metadata": {
        "colab": {
          "base_uri": "https://localhost:8080/"
        },
        "id": "v_Lk7-yXXOtb",
        "outputId": "0a5604de-54d1-4086-8f8a-6d5185220426"
      },
      "source": [
        "print('Test Vocabolary Size ',len(test_vocab))\n",
        "\n",
        "new_vocab = [word for word in train_vocab if test_vocab[word]>1]   #atleast one occurance \n",
        "\n",
        "print('Test Vocabolary Size (considering occurance greather than 1) ',len(new_vocab))\n",
        "\n",
        "new_vocab = [word for word in train_vocab if test_vocab[word]>2]   #atleast twice occurance\n",
        "\n",
        "print('Test Vocabolary Size (considering occurance greather than 2) ',len(new_vocab))\n"
      ],
      "execution_count": null,
      "outputs": [
        {
          "output_type": "stream",
          "text": [
            "Test Vocabolary Size  28805\n",
            "Test Vocabolary Size (considering occurance greather than 1)  22307\n",
            "Test Vocabolary Size (considering occurance greather than 2)  16226\n"
          ],
          "name": "stdout"
        }
      ]
    },
    {
      "cell_type": "markdown",
      "metadata": {
        "id": "q-HOb4HSN1cq"
      },
      "source": [
        "### Word length"
      ]
    },
    {
      "cell_type": "code",
      "metadata": {
        "id": "lvC1kFPkWIDD"
      },
      "source": [
        "def word_length(vocab) :\n",
        "\n",
        "  word_length = []\n",
        "\n",
        "  for word in vocab :\n",
        "    word_length.append(len(word))\n",
        "\n",
        "  sns.distplot(word_length)"
      ],
      "execution_count": null,
      "outputs": []
    },
    {
      "cell_type": "code",
      "metadata": {
        "colab": {
          "base_uri": "https://localhost:8080/",
          "height": 265
        },
        "id": "3y2Uf52KOJW7",
        "outputId": "04dca096-6987-48f1-c31e-3b43c194b220"
      },
      "source": [
        "word_length(train_vocab)"
      ],
      "execution_count": null,
      "outputs": [
        {
          "output_type": "display_data",
          "data": {
            "image/png": "[encoded data removed]",
            "text/plain": [
              "<Figure size 432x288 with 1 Axes>"
            ]
          },
          "metadata": {
            "tags": [],
            "needs_background": "light"
          }
        }
      ]
    },
    {
      "cell_type": "code",
      "metadata": {
        "colab": {
          "base_uri": "https://localhost:8080/",
          "height": 265
        },
        "id": "NJf4LDW-ONPS",
        "outputId": "1abf793a-713d-415d-e925-9f809064df7f"
      },
      "source": [
        "word_length(test_vocab)"
      ],
      "execution_count": null,
      "outputs": [
        {
          "output_type": "display_data",
          "data": {
            "image/png": "[encoded data removed]",
            "text/plain": [
              "<Figure size 432x288 with 1 Axes>"
            ]
          },
          "metadata": {
            "tags": [],
            "needs_background": "light"
          }
        }
      ]
    },
    {
      "cell_type": "markdown",
      "metadata": {
        "id": "LM_wPvrZjbvg"
      },
      "source": [
        "## Metrics"
      ]
    },
    {
      "cell_type": "code",
      "metadata": {
        "id": "vZGkQP00jzjG"
      },
      "source": [
        "#https://datascience.stackexchange.com/questions/45165/how-to-get-accuracy-f1-precision-and-recall-for-a-keras-model"
      ],
      "execution_count": null,
      "outputs": []
    },
    {
      "cell_type": "code",
      "metadata": {
        "id": "_ppBcdnMjeQF"
      },
      "source": [
        "def auc(y_true, y_pred):\n",
        "    return tf.py_function(roc_auc_score, (y_true, y_pred), tf.double)"
      ],
      "execution_count": null,
      "outputs": []
    },
    {
      "cell_type": "code",
      "metadata": {
        "id": "xeNgIC31ug_7"
      },
      "source": [
        "from keras import backend as K\n",
        "\n",
        "def recall(y_true, y_pred):\n",
        "    true_positives = K.sum(K.round(K.clip(y_true * y_pred, 0, 1)))\n",
        "    possible_positives = K.sum(K.round(K.clip(y_true, 0, 1)))\n",
        "    recall_ = true_positives / (possible_positives + K.epsilon())\n",
        "    return recall_\n",
        "\n",
        "def precision(y_true, y_pred):\n",
        "    true_positives = K.sum(K.round(K.clip(y_true * y_pred, 0, 1)))\n",
        "    predicted_positives = K.sum(K.round(K.clip(y_pred, 0, 1)))\n",
        "    precision_ = true_positives / (predicted_positives + K.epsilon())\n",
        "    return precision_\n",
        "\n",
        "def f1(y_true, y_pred):\n",
        "    precision_ = precision(y_true, y_pred)\n",
        "    recall_ = recall(y_true, y_pred)\n",
        "    return 2*((precision_*recall_)/(precision_+recall_+K.epsilon()))"
      ],
      "execution_count": null,
      "outputs": []
    },
    {
      "cell_type": "code",
      "metadata": {
        "id": "3_mBLYHK944C"
      },
      "source": [
        "def getF1Score(model) :\n",
        "  y_pred = model.predict(X_test_data)\n",
        "  y_pred = np.argmax(y_pred,axis=1)\n",
        "  val = f1_score(test['class'], y_pred, average='micro') \n",
        "  return val"
      ],
      "execution_count": null,
      "outputs": []
    },
    {
      "cell_type": "code",
      "metadata": {
        "id": "0b1fdHu-98nL"
      },
      "source": [
        "class F1Score(tf.keras.callbacks.Callback): \n",
        "  \n",
        "  def on_train_begin(self, logs={}):\n",
        "    self.history={'F1':[],'val_accuracy': []} \n",
        "  \n",
        "  def on_epoch_end(self, epoch, logs={}):\n",
        "\n",
        "    f1 = getF1Score(self.model)\n",
        "    self.history['F1'].append(f1)\n",
        "    print('F1 Score',f1)\n",
        "\n",
        "score = F1Score()"
      ],
      "execution_count": null,
      "outputs": []
    },
    {
      "cell_type": "markdown",
      "metadata": {
        "id": "Zo1vOhH4mM_y"
      },
      "source": [
        "## CNN Models"
      ]
    },
    {
      "cell_type": "code",
      "metadata": {
        "id": "a8IZQ9rHmsy0"
      },
      "source": [
        "tokenizer = Tokenizer(filters='\\t\\n')\n",
        "tokenizer.fit_on_texts(train['data'])\n",
        "\n",
        "X_train_data = tokenizer.texts_to_sequences(train['data'])\n",
        "X_test_data = tokenizer.texts_to_sequences(test['data'])"
      ],
      "execution_count": null,
      "outputs": []
    },
    {
      "cell_type": "code",
      "metadata": {
        "id": "6V5jBQZnmx0P"
      },
      "source": [
        "X_train_data = pad_sequences(X_train_data, maxlen=128, padding='post')\n",
        "X_test_data  = pad_sequences(X_test_data, maxlen=128, padding='post')"
      ],
      "execution_count": null,
      "outputs": []
    },
    {
      "cell_type": "code",
      "metadata": {
        "id": "RMYU_B9W9ibk"
      },
      "source": [
        "num_words = len(tokenizer.word_index) + 1 "
      ],
      "execution_count": null,
      "outputs": []
    },
    {
      "cell_type": "markdown",
      "metadata": {
        "id": "oo5MtKr9l8VI"
      },
      "source": [
        "### Architecture 1"
      ]
    },
    {
      "cell_type": "code",
      "metadata": {
        "id": "ClCe8u-Ym0zZ"
      },
      "source": [
        "keras.backend.clear_session()\n",
        "\n",
        "sequence_input = Input(shape=(128,), dtype='int32')\n",
        "\n",
        "embedded_sequences = Embedding(num_words,32,input_length=128)(sequence_input)\n",
        "\n",
        "x = Conv1D(filters = 16, kernel_size = 7, activation='relu')(embedded_sequences)\n",
        "y = Conv1D(filters = 16, kernel_size = 7, activation='relu')(embedded_sequences)\n",
        "z = Conv1D(filters = 16, kernel_size = 7, activation='relu')(embedded_sequences)\n",
        "\n",
        "x = concatenate([x,y,z])\n",
        "out = MaxPooling1D(2)(x)\n",
        "\n",
        "x = Conv1D(filters = 16, kernel_size = 5, activation='relu')(out)\n",
        "y = Conv1D(filters = 16, kernel_size = 5, activation='relu')(out)\n",
        "z = Conv1D(filters = 16, kernel_size = 5, activation='relu')(out)\n",
        "\n",
        "x = concatenate([x,y,z])\n",
        "x = MaxPooling1D(2)(x)\n",
        "\n",
        "x = Conv1D(filters = 32, kernel_size = 3, activation='relu')(x)\n",
        "x = Flatten()(x)\n",
        "\n",
        "x = Dropout(.5)(x)\n",
        "\n",
        "x = Dense(256,activation='relu')(x)\n",
        "x = Dropout(.5)(x)\n",
        "\n",
        "x = Dense(128,activation='relu')(x)\n",
        "\n",
        "preds = Dense(2,activation='softmax')(x) \n",
        "\n",
        "model1 = Model(sequence_input, preds)"
      ],
      "execution_count": null,
      "outputs": []
    },
    {
      "cell_type": "code",
      "metadata": {
        "colab": {
          "base_uri": "https://localhost:8080/"
        },
        "id": "ua6U3g21kg96",
        "outputId": "e2b9167a-87cb-44da-a55c-fc242fdd446e"
      },
      "source": [
        "model1.summary()"
      ],
      "execution_count": null,
      "outputs": [
        {
          "output_type": "stream",
          "text": [
            "Model: \"model\"\n",
            "__________________________________________________________________________________________________\n",
            "Layer (type)                    Output Shape         Param #     Connected to                     \n",
            "==================================================================================================\n",
            "input_1 (InputLayer)            [(None, 128)]        0                                            \n",
            "__________________________________________________________________________________________________\n",
            "embedding (Embedding)           (None, 128, 32)      2744576     input_1[0][0]                    \n",
            "__________________________________________________________________________________________________\n",
            "conv1d (Conv1D)                 (None, 122, 16)      3600        embedding[0][0]                  \n",
            "__________________________________________________________________________________________________\n",
            "conv1d_1 (Conv1D)               (None, 122, 16)      3600        embedding[0][0]                  \n",
            "__________________________________________________________________________________________________\n",
            "conv1d_2 (Conv1D)               (None, 122, 16)      3600        embedding[0][0]                  \n",
            "__________________________________________________________________________________________________\n",
            "concatenate (Concatenate)       (None, 122, 48)      0           conv1d[0][0]                     \n",
            "                                                                 conv1d_1[0][0]                   \n",
            "                                                                 conv1d_2[0][0]                   \n",
            "__________________________________________________________________________________________________\n",
            "max_pooling1d (MaxPooling1D)    (None, 61, 48)       0           concatenate[0][0]                \n",
            "__________________________________________________________________________________________________\n",
            "conv1d_3 (Conv1D)               (None, 57, 16)       3856        max_pooling1d[0][0]              \n",
            "__________________________________________________________________________________________________\n",
            "conv1d_4 (Conv1D)               (None, 57, 16)       3856        max_pooling1d[0][0]              \n",
            "__________________________________________________________________________________________________\n",
            "conv1d_5 (Conv1D)               (None, 57, 16)       3856        max_pooling1d[0][0]              \n",
            "__________________________________________________________________________________________________\n",
            "concatenate_1 (Concatenate)     (None, 57, 48)       0           conv1d_3[0][0]                   \n",
            "                                                                 conv1d_4[0][0]                   \n",
            "                                                                 conv1d_5[0][0]                   \n",
            "__________________________________________________________________________________________________\n",
            "max_pooling1d_1 (MaxPooling1D)  (None, 28, 48)       0           concatenate_1[0][0]              \n",
            "__________________________________________________________________________________________________\n",
            "conv1d_6 (Conv1D)               (None, 26, 32)       4640        max_pooling1d_1[0][0]            \n",
            "__________________________________________________________________________________________________\n",
            "flatten (Flatten)               (None, 832)          0           conv1d_6[0][0]                   \n",
            "__________________________________________________________________________________________________\n",
            "dropout (Dropout)               (None, 832)          0           flatten[0][0]                    \n",
            "__________________________________________________________________________________________________\n",
            "dense (Dense)                   (None, 256)          213248      dropout[0][0]                    \n",
            "__________________________________________________________________________________________________\n",
            "dropout_1 (Dropout)             (None, 256)          0           dense[0][0]                      \n",
            "__________________________________________________________________________________________________\n",
            "dense_1 (Dense)                 (None, 128)          32896       dropout_1[0][0]                  \n",
            "__________________________________________________________________________________________________\n",
            "dense_2 (Dense)                 (None, 2)            258         dense_1[0][0]                    \n",
            "==================================================================================================\n",
            "Total params: 3,017,986\n",
            "Trainable params: 3,017,986\n",
            "Non-trainable params: 0\n",
            "__________________________________________________________________________________________________\n"
          ],
          "name": "stdout"
        }
      ]
    },
    {
      "cell_type": "code",
      "metadata": {
        "colab": {
          "base_uri": "https://localhost:8080/"
        },
        "id": "E0AUOv_n_yr5",
        "outputId": "d271ed97-beb2-427f-dff4-a553b84d6b1a"
      },
      "source": [
        "model1.summary()"
      ],
      "execution_count": null,
      "outputs": [
        {
          "output_type": "stream",
          "text": [
            "Model: \"model\"\n",
            "__________________________________________________________________________________________________\n",
            "Layer (type)                    Output Shape         Param #     Connected to                     \n",
            "==================================================================================================\n",
            "input_1 (InputLayer)            [(None, 128)]        0                                            \n",
            "__________________________________________________________________________________________________\n",
            "embedding (Embedding)           (None, 128, 32)      2744576     input_1[0][0]                    \n",
            "__________________________________________________________________________________________________\n",
            "conv1d (Conv1D)                 (None, 122, 16)      3600        embedding[0][0]                  \n",
            "__________________________________________________________________________________________________\n",
            "conv1d_1 (Conv1D)               (None, 122, 16)      3600        embedding[0][0]                  \n",
            "__________________________________________________________________________________________________\n",
            "conv1d_2 (Conv1D)               (None, 122, 16)      3600        embedding[0][0]                  \n",
            "__________________________________________________________________________________________________\n",
            "concatenate (Concatenate)       (None, 122, 48)      0           conv1d[0][0]                     \n",
            "                                                                 conv1d_1[0][0]                   \n",
            "                                                                 conv1d_2[0][0]                   \n",
            "__________________________________________________________________________________________________\n",
            "max_pooling1d (MaxPooling1D)    (None, 61, 48)       0           concatenate[0][0]                \n",
            "__________________________________________________________________________________________________\n",
            "conv1d_3 (Conv1D)               (None, 57, 16)       3856        max_pooling1d[0][0]              \n",
            "__________________________________________________________________________________________________\n",
            "conv1d_4 (Conv1D)               (None, 57, 16)       3856        max_pooling1d[0][0]              \n",
            "__________________________________________________________________________________________________\n",
            "conv1d_5 (Conv1D)               (None, 57, 16)       3856        max_pooling1d[0][0]              \n",
            "__________________________________________________________________________________________________\n",
            "concatenate_1 (Concatenate)     (None, 57, 48)       0           conv1d_3[0][0]                   \n",
            "                                                                 conv1d_4[0][0]                   \n",
            "                                                                 conv1d_5[0][0]                   \n",
            "__________________________________________________________________________________________________\n",
            "max_pooling1d_1 (MaxPooling1D)  (None, 28, 48)       0           concatenate_1[0][0]              \n",
            "__________________________________________________________________________________________________\n",
            "conv1d_6 (Conv1D)               (None, 26, 32)       4640        max_pooling1d_1[0][0]            \n",
            "__________________________________________________________________________________________________\n",
            "flatten (Flatten)               (None, 832)          0           conv1d_6[0][0]                   \n",
            "__________________________________________________________________________________________________\n",
            "dropout (Dropout)               (None, 832)          0           flatten[0][0]                    \n",
            "__________________________________________________________________________________________________\n",
            "dense (Dense)                   (None, 256)          213248      dropout[0][0]                    \n",
            "__________________________________________________________________________________________________\n",
            "dropout_1 (Dropout)             (None, 256)          0           dense[0][0]                      \n",
            "__________________________________________________________________________________________________\n",
            "dense_1 (Dense)                 (None, 128)          32896       dropout_1[0][0]                  \n",
            "__________________________________________________________________________________________________\n",
            "dense_2 (Dense)                 (None, 2)            258         dense_1[0][0]                    \n",
            "==================================================================================================\n",
            "Total params: 3,017,986\n",
            "Trainable params: 3,017,986\n",
            "Non-trainable params: 0\n",
            "__________________________________________________________________________________________________\n"
          ],
          "name": "stdout"
        }
      ]
    },
    {
      "cell_type": "code",
      "metadata": {
        "colab": {
          "base_uri": "https://localhost:8080/",
          "height": 1000
        },
        "id": "am9q9hnmkYe3",
        "outputId": "9f64ef11-7ee6-4c4e-b2f5-93d98fe1dd7c"
      },
      "source": [
        "plot_model(model1)"
      ],
      "execution_count": null,
      "outputs": [
        {
          "output_type": "execute_result",
          "data": {
            "image/png": "[encoded data removed]",
            "text/plain": [
              "<IPython.core.display.Image object>"
            ]
          },
          "metadata": {
            "tags": []
          },
          "execution_count": 65
        }
      ]
    },
    {
      "cell_type": "code",
      "metadata": {
        "id": "xb4PTnnF-rPj"
      },
      "source": [
        "model1.compile(loss='categorical_crossentropy', optimizer='adam', metrics=['acc',auc])"
      ],
      "execution_count": null,
      "outputs": []
    },
    {
      "cell_type": "code",
      "metadata": {
        "colab": {
          "base_uri": "https://localhost:8080/"
        },
        "id": "Hxq_zFol-rSM",
        "outputId": "c68bcb5f-23c7-4b2c-f99a-373e6f902d00"
      },
      "source": [
        "model1.fit(X_train_data, to_categorical(train['class']),\n",
        "          batch_size=128, epochs=5,\n",
        "          validation_data=(X_test_data, to_categorical(test['class'])),\n",
        "          callbacks=[score])"
      ],
      "execution_count": null,
      "outputs": [
        {
          "output_type": "stream",
          "text": [
            "Epoch 1/5\n",
            "7292/7292 [==============================] - 316s 43ms/step - loss: 0.6764 - acc: 0.5593 - auc: 0.5883 - val_loss: 0.6413 - val_acc: 0.6223 - val_auc: 0.6843\n",
            "F1 Score 0.6222858653507226\n",
            "Epoch 2/5\n",
            "7292/7292 [==============================] - 328s 45ms/step - loss: 0.6288 - acc: 0.6354 - auc: 0.6959 - val_loss: 0.6283 - val_acc: 0.6396 - val_auc: 0.7015\n",
            "F1 Score 0.6395840676771237\n",
            "Epoch 3/5\n",
            "7292/7292 [==============================] - 321s 44ms/step - loss: 0.6096 - acc: 0.6557 - auc: 0.7215 - val_loss: 0.6217 - val_acc: 0.6475 - val_auc: 0.7081\n",
            "F1 Score 0.6475149806133239\n",
            "Epoch 4/5\n",
            "7292/7292 [==============================] - 331s 45ms/step - loss: 0.5934 - acc: 0.6697 - auc: 0.7406 - val_loss: 0.6236 - val_acc: 0.6482 - val_auc: 0.7098\n",
            "F1 Score 0.6481758900246739\n",
            "Epoch 5/5\n",
            "7292/7292 [==============================] - 330s 45ms/step - loss: 0.5783 - acc: 0.6829 - auc: 0.7573 - val_loss: 0.6239 - val_acc: 0.6480 - val_auc: 0.7100\n",
            "F1 Score 0.6480348960169193\n"
          ],
          "name": "stdout"
        },
        {
          "output_type": "execute_result",
          "data": {
            "text/plain": [
              "<tensorflow.python.keras.callbacks.History at 0x7f6ae939d390>"
            ]
          },
          "metadata": {
            "tags": []
          },
          "execution_count": 77
        }
      ]
    },
    {
      "cell_type": "markdown",
      "metadata": {
        "id": "56xrSawcmAGz"
      },
      "source": [
        "### Architecutre 2"
      ]
    },
    {
      "cell_type": "code",
      "metadata": {
        "id": "gwVZLlyRt1q_"
      },
      "source": [
        "keras.backend.clear_session()\n",
        "\n",
        "sequence_input = Input(shape=(128,), dtype='int32')\n",
        "\n",
        "embedded_sequences = Embedding(num_words,32,input_length=128)(sequence_input)\n",
        "\n",
        "x = Conv1D(filters = 16, kernel_size = 16, activation='relu')(embedded_sequences)\n",
        "x = Conv1D(filters = 16, kernel_size = 16, activation='relu')(x)\n",
        "x = MaxPooling1D(2)(x)\n",
        "\n",
        "\n",
        "x = Conv1D(filters = 32, kernel_size = 7, activation='relu')(x)\n",
        "x = Conv1D(filters = 32, kernel_size = 7, activation='relu')(x)\n",
        "x = MaxPooling1D(2)(x)\n",
        "\n",
        "x = Conv1D(filters = 64, kernel_size = 3, activation='relu')(x)\n",
        "\n",
        "x = Flatten()(x)\n",
        "\n",
        "x = Dense(512,activation='relu')(x)\n",
        "x = BatchNormalization()(x)\n",
        "x = Dropout(.5)(x)\n",
        "\n",
        "x = Dense(256,activation='relu')(x)\n",
        "x = BatchNormalization()(x)\n",
        "x = Dropout(.5)(x)\n",
        "\n",
        "x = Dense(128,activation='relu')(x)\n",
        "preds = Dense(2,activation='softmax')(x) \n",
        "\n",
        "model2 = Model(sequence_input, preds)\n"
      ],
      "execution_count": null,
      "outputs": []
    },
    {
      "cell_type": "code",
      "metadata": {
        "colab": {
          "base_uri": "https://localhost:8080/"
        },
        "id": "THWjSTF3mV6M",
        "outputId": "cc2da4c1-413b-49dd-d4d5-86f0f64995c9"
      },
      "source": [
        "model2.summary()"
      ],
      "execution_count": null,
      "outputs": [
        {
          "output_type": "stream",
          "text": [
            "Model: \"model\"\n",
            "_________________________________________________________________\n",
            "Layer (type)                 Output Shape              Param #   \n",
            "=================================================================\n",
            "input_1 (InputLayer)         [(None, 128)]             0         \n",
            "_________________________________________________________________\n",
            "embedding (Embedding)        (None, 128, 32)           2744576   \n",
            "_________________________________________________________________\n",
            "conv1d (Conv1D)              (None, 113, 16)           8208      \n",
            "_________________________________________________________________\n",
            "conv1d_1 (Conv1D)            (None, 98, 16)            4112      \n",
            "_________________________________________________________________\n",
            "max_pooling1d (MaxPooling1D) (None, 49, 16)            0         \n",
            "_________________________________________________________________\n",
            "conv1d_2 (Conv1D)            (None, 43, 32)            3616      \n",
            "_________________________________________________________________\n",
            "conv1d_3 (Conv1D)            (None, 37, 32)            7200      \n",
            "_________________________________________________________________\n",
            "max_pooling1d_1 (MaxPooling1 (None, 18, 32)            0         \n",
            "_________________________________________________________________\n",
            "conv1d_4 (Conv1D)            (None, 16, 64)            6208      \n",
            "_________________________________________________________________\n",
            "flatten (Flatten)            (None, 1024)              0         \n",
            "_________________________________________________________________\n",
            "dense (Dense)                (None, 512)               524800    \n",
            "_________________________________________________________________\n",
            "batch_normalization (BatchNo (None, 512)               2048      \n",
            "_________________________________________________________________\n",
            "dropout (Dropout)            (None, 512)               0         \n",
            "_________________________________________________________________\n",
            "dense_1 (Dense)              (None, 256)               131328    \n",
            "_________________________________________________________________\n",
            "batch_normalization_1 (Batch (None, 256)               1024      \n",
            "_________________________________________________________________\n",
            "dropout_1 (Dropout)          (None, 256)               0         \n",
            "_________________________________________________________________\n",
            "dense_2 (Dense)              (None, 128)               32896     \n",
            "_________________________________________________________________\n",
            "dense_3 (Dense)              (None, 2)                 258       \n",
            "=================================================================\n",
            "Total params: 3,466,274\n",
            "Trainable params: 3,464,738\n",
            "Non-trainable params: 1,536\n",
            "_________________________________________________________________\n"
          ],
          "name": "stdout"
        }
      ]
    },
    {
      "cell_type": "code",
      "metadata": {
        "colab": {
          "base_uri": "https://localhost:8080/",
          "height": 1000
        },
        "id": "Jpy28jlZmWgh",
        "outputId": "837d144c-822b-4786-cc82-ab212d733826"
      },
      "source": [
        "plot_model(model2)"
      ],
      "execution_count": null,
      "outputs": [
        {
          "output_type": "execute_result",
          "data": {
            "image/png": "[encoded data removed]",
            "text/plain": [
              "<IPython.core.display.Image object>"
            ]
          },
          "metadata": {
            "tags": []
          },
          "execution_count": 49
        }
      ]
    },
    {
      "cell_type": "code",
      "metadata": {
        "id": "bBOU_ElTxexJ"
      },
      "source": [
        "model2.compile(loss='categorical_crossentropy', optimizer='adam', metrics=['acc',auc,f1,precision, recall])"
      ],
      "execution_count": null,
      "outputs": []
    },
    {
      "cell_type": "code",
      "metadata": {
        "colab": {
          "base_uri": "https://localhost:8080/"
        },
        "id": "Yyqv1aj6xjfR",
        "outputId": "452d617c-28b9-480e-ad57-cd8fedbf3275"
      },
      "source": [
        "model2.fit(X_train_data, to_categorical(train['class']),\n",
        "          batch_size=128, epochs=4,\n",
        "          validation_data=(X_test_data, to_categorical(test['class'])))"
      ],
      "execution_count": null,
      "outputs": [
        {
          "output_type": "stream",
          "text": [
            "Epoch 1/4\n",
            "7292/7292 [==============================] - 240s 33ms/step - loss: 0.6983 - acc: 0.5015 - auc: 0.5027 - f1: 0.5015 - precision: 0.5015 - recall: 0.5015 - val_loss: 0.7256 - val_acc: 0.5025 - val_auc: 0.6067 - val_f1: 0.5025 - val_precision: 0.5025 - val_recall: 0.5025\n",
            "Epoch 2/4\n",
            "7292/7292 [==============================] - 242s 33ms/step - loss: 0.6641 - acc: 0.5921 - auc: 0.6331 - f1: 0.5921 - precision: 0.5921 - recall: 0.5921 - val_loss: 0.6484 - val_acc: 0.6099 - val_auc: 0.6831 - val_f1: 0.6098 - val_precision: 0.6098 - val_recall: 0.6098\n",
            "Epoch 3/4\n",
            "7292/7292 [==============================] - 244s 33ms/step - loss: 0.6303 - acc: 0.6350 - auc: 0.6937 - f1: 0.6350 - precision: 0.6350 - recall: 0.6350 - val_loss: 0.6310 - val_acc: 0.6348 - val_auc: 0.6940 - val_f1: 0.6348 - val_precision: 0.6348 - val_recall: 0.6348\n",
            "Epoch 4/4\n",
            "7292/7292 [==============================] - 244s 33ms/step - loss: 0.6118 - acc: 0.6535 - auc: 0.7195 - f1: 0.6535 - precision: 0.6535 - recall: 0.6535 - val_loss: 0.6305 - val_acc: 0.6328 - val_auc: 0.6998 - val_f1: 0.6327 - val_precision: 0.6327 - val_recall: 0.6327\n"
          ],
          "name": "stdout"
        },
        {
          "output_type": "execute_result",
          "data": {
            "text/plain": [
              "<tensorflow.python.keras.callbacks.History at 0x7f19078fd910>"
            ]
          },
          "metadata": {
            "tags": []
          },
          "execution_count": 49
        }
      ]
    },
    {
      "cell_type": "markdown",
      "metadata": {
        "id": "bzIgEenYUXck"
      },
      "source": [
        "## 7 LSTM based Model"
      ]
    },
    {
      "cell_type": "markdown",
      "metadata": {
        "id": "MKny5DvI2cqP"
      },
      "source": [
        "### Tokenization"
      ]
    },
    {
      "cell_type": "code",
      "metadata": {
        "id": "W-uz2Bf2V3kj"
      },
      "source": [
        "tokenizer = Tokenizer(filters='\\t\\n')\n",
        "tokenizer.fit_on_texts(train['data'])\n",
        "\n",
        "X_train_data = tokenizer.texts_to_sequences(train['data'])\n",
        "X_test_data = tokenizer.texts_to_sequences(test['data'])"
      ],
      "execution_count": null,
      "outputs": []
    },
    {
      "cell_type": "code",
      "metadata": {
        "id": "QP0MWhKyVnWO"
      },
      "source": [
        "X_train_data = pad_sequences(X_train_data, maxlen=128, padding='post')\n",
        "X_test_data  = pad_sequences(X_test_data, maxlen=128, padding='post')"
      ],
      "execution_count": null,
      "outputs": []
    },
    {
      "cell_type": "code",
      "metadata": {
        "id": "DtIo9msnW_vU"
      },
      "source": [
        "num_words = len(tokenizer.word_index ) + 1"
      ],
      "execution_count": null,
      "outputs": []
    },
    {
      "cell_type": "code",
      "metadata": {
        "id": "sJ3y2MGeh6Uc"
      },
      "source": [
        "import pickle"
      ],
      "execution_count": null,
      "outputs": []
    },
    {
      "cell_type": "code",
      "metadata": {
        "id": "St9DwD8Diw7Q"
      },
      "source": [
        "#dump tokenizer\n",
        "pickle.dump((tokenizer),open('tokenizer.pkl','wb'))"
      ],
      "execution_count": null,
      "outputs": []
    },
    {
      "cell_type": "markdown",
      "metadata": {
        "id": "4G7tbFn-UTUI"
      },
      "source": [
        "### LSTM Model :     \n",
        "\n"
      ]
    },
    {
      "cell_type": "code",
      "metadata": {
        "id": "UT7743jboe56"
      },
      "source": [
        "keras.backend.clear_session()\n",
        "\n",
        "input_sentence        = Input(shape=(128,), dtype='int32') \n",
        "\n",
        "sentence         = Embedding(num_words,32,input_length=128) (input_sentence)\n",
        "sentence         = LSTM(100)(sentence)\n",
        "\n",
        "x = Dense(64,activation='relu')(sentence)\n",
        "x = BatchNormalization()(x)\n",
        "x = Dropout(.5)(x)\n",
        "\n",
        "x = Dense(8,activation='relu')(x)\n",
        "x = BatchNormalization()(x)\n",
        "x = Dropout(.5)(x)\n",
        "\n",
        "x = Dense(4,activation='relu')(x)\n",
        "x = BatchNormalization()(x)\n",
        "x = Dropout(.5)(x)\n",
        "\n",
        "preds = Dense(2,activation='softmax')(x) \n",
        "\n",
        "lstm_model = Model(inputs =input_sentence, outputs = preds)"
      ],
      "execution_count": null,
      "outputs": []
    },
    {
      "cell_type": "code",
      "metadata": {
        "colab": {
          "base_uri": "https://localhost:8080/"
        },
        "id": "i-pxQM1J35Bz",
        "outputId": "8e38a4bf-42af-4b02-aa04-e11f7a0097c0"
      },
      "source": [
        "lstm_model.summary()"
      ],
      "execution_count": null,
      "outputs": [
        {
          "output_type": "stream",
          "text": [
            "Model: \"model\"\n",
            "_________________________________________________________________\n",
            "Layer (type)                 Output Shape              Param #   \n",
            "=================================================================\n",
            "input_1 (InputLayer)         [(None, 128)]             0         \n",
            "_________________________________________________________________\n",
            "embedding (Embedding)        (None, 128, 32)           2744576   \n",
            "_________________________________________________________________\n",
            "lstm (LSTM)                  (None, 100)               53200     \n",
            "_________________________________________________________________\n",
            "dense (Dense)                (None, 64)                6464      \n",
            "_________________________________________________________________\n",
            "batch_normalization (BatchNo (None, 64)                256       \n",
            "_________________________________________________________________\n",
            "dropout (Dropout)            (None, 64)                0         \n",
            "_________________________________________________________________\n",
            "dense_1 (Dense)              (None, 8)                 520       \n",
            "_________________________________________________________________\n",
            "batch_normalization_1 (Batch (None, 8)                 32        \n",
            "_________________________________________________________________\n",
            "dropout_1 (Dropout)          (None, 8)                 0         \n",
            "_________________________________________________________________\n",
            "dense_2 (Dense)              (None, 4)                 36        \n",
            "_________________________________________________________________\n",
            "batch_normalization_2 (Batch (None, 4)                 16        \n",
            "_________________________________________________________________\n",
            "dropout_2 (Dropout)          (None, 4)                 0         \n",
            "_________________________________________________________________\n",
            "dense_3 (Dense)              (None, 2)                 10        \n",
            "=================================================================\n",
            "Total params: 2,805,110\n",
            "Trainable params: 2,804,958\n",
            "Non-trainable params: 152\n",
            "_________________________________________________________________\n"
          ],
          "name": "stdout"
        }
      ]
    },
    {
      "cell_type": "code",
      "metadata": {
        "colab": {
          "base_uri": "https://localhost:8080/",
          "height": 1000
        },
        "id": "xOBh8EIn1NGb",
        "outputId": "385be4b7-db23-4b51-aa19-0badb0d42856"
      },
      "source": [
        "plot_model(lstm_model)"
      ],
      "execution_count": null,
      "outputs": [
        {
          "output_type": "execute_result",
          "data": {
            "image/png": "[encoded data removed]",
            "text/plain": [
              "<IPython.core.display.Image object>"
            ]
          },
          "metadata": {
            "tags": []
          },
          "execution_count": 52
        }
      ]
    },
    {
      "cell_type": "code",
      "metadata": {
        "id": "_s2Y1R8Q3vp5"
      },
      "source": [
        "lstm_model.compile(loss='categorical_crossentropy', optimizer=Adam(lr=.01),metrics=['acc',auc,f1,precision, recall])"
      ],
      "execution_count": null,
      "outputs": []
    },
    {
      "cell_type": "code",
      "metadata": {
        "colab": {
          "base_uri": "https://localhost:8080/"
        },
        "id": "ngZJMx9i0vqH",
        "outputId": "2889cbb9-0d8d-4dcb-d8f7-544c7f3b84ec"
      },
      "source": [
        "lstm_model.fit(X_train_data, to_categorical(train['class']),\n",
        "            batch_size=128, epochs=5,\n",
        "            validation_data=(X_test_data, to_categorical(test['class'])))"
      ],
      "execution_count": null,
      "outputs": [
        {
          "output_type": "stream",
          "text": [
            "Epoch 1/5\n",
            "7292/7292 [==============================] - 271s 37ms/step - loss: 0.7046 - acc: 0.4989 - auc: 0.4990 - f1: 0.4989 - precision: 0.4989 - recall: 0.4988 - val_loss: 0.6935 - val_acc: 0.5000 - val_auc: 0.5013 - val_f1: 0.5000 - val_precision: 0.5000 - val_recall: 0.5000\n",
            "Epoch 2/5\n",
            "7292/7292 [==============================] - 270s 37ms/step - loss: 0.6935 - acc: 0.4990 - auc: 0.5003 - f1: 0.4990 - precision: 0.4990 - recall: 0.4990 - val_loss: 0.6934 - val_acc: 0.5000 - val_auc: 0.5012 - val_f1: 0.5000 - val_precision: 0.5000 - val_recall: 0.5000\n",
            "Epoch 3/5\n",
            "7292/7292 [==============================] - 269s 37ms/step - loss: 0.6934 - acc: 0.5000 - auc: 0.4993 - f1: 0.5000 - precision: 0.5000 - recall: 0.5000 - val_loss: 0.6932 - val_acc: 0.5000 - val_auc: 0.4983 - val_f1: 0.5000 - val_precision: 0.5000 - val_recall: 0.5000\n",
            "Epoch 4/5\n",
            "7292/7292 [==============================] - 270s 37ms/step - loss: 0.6934 - acc: 0.5009 - auc: 0.5005 - f1: 0.5009 - precision: 0.5009 - recall: 0.5009 - val_loss: 0.6940 - val_acc: 0.5000 - val_auc: 0.5018 - val_f1: 0.5000 - val_precision: 0.5000 - val_recall: 0.5000\n",
            "Epoch 5/5\n",
            "7292/7292 [==============================] - 269s 37ms/step - loss: 0.6934 - acc: 0.4996 - auc: 0.4991 - f1: 0.4996 - precision: 0.4996 - recall: 0.4996 - val_loss: 0.6936 - val_acc: 0.5000 - val_auc: 0.5022 - val_f1: 0.5000 - val_precision: 0.5000 - val_recall: 0.5000\n"
          ],
          "name": "stdout"
        },
        {
          "output_type": "execute_result",
          "data": {
            "text/plain": [
              "<tensorflow.python.keras.callbacks.History at 0x7f44efac5110>"
            ]
          },
          "metadata": {
            "tags": []
          },
          "execution_count": 237
        }
      ]
    },
    {
      "cell_type": "markdown",
      "metadata": {
        "id": "D9B6uJJE27sE"
      },
      "source": [
        "### LSTM with attention"
      ]
    },
    {
      "cell_type": "code",
      "metadata": {
        "id": "GtyS4k2_Ep4B"
      },
      "source": [
        "#Code link\n",
        "#https://www.analyticsvidhya.com/blog/2019/11/comprehensive-guide-attention-mechanism-deep-learning/"
      ],
      "execution_count": null,
      "outputs": []
    },
    {
      "cell_type": "code",
      "metadata": {
        "id": "ls49tv--78DD"
      },
      "source": [
        "from keras.layers import Layer\n",
        "import keras.backend as K"
      ],
      "execution_count": null,
      "outputs": []
    },
    {
      "cell_type": "code",
      "metadata": {
        "id": "dGCbT17IupAA"
      },
      "source": [
        "class attention(Layer):\n",
        "    def __init__(self,**kwargs):\n",
        "        super(attention,self).__init__(**kwargs)\n",
        "\n",
        "    def build(self,input_shape):\n",
        "        self.W=self.add_weight(name=\"att_weight\",shape=(input_shape[-1],1),initializer=\"normal\")\n",
        "        self.b=self.add_weight(name=\"att_bias\",shape=(input_shape[1],1),initializer=\"zeros\")        \n",
        "        super(attention, self).build(input_shape)\n",
        "\n",
        "    def call(self,x):\n",
        "        et=K.squeeze(K.tanh(K.dot(x,self.W)+self.b),axis=-1)\n",
        "        at=K.softmax(et)\n",
        "        at=K.expand_dims(at,axis=-1)\n",
        "        output=x*at\n",
        "        return K.sum(output,axis=1)\n",
        "\n",
        "    def compute_output_shape(self,input_shape):\n",
        "        return (input_shape[0],input_shape[-1])\n",
        "\n",
        "    def get_config(self):\n",
        "        return super(attention,self).get_config()"
      ],
      "execution_count": null,
      "outputs": []
    },
    {
      "cell_type": "code",
      "metadata": {
        "id": "NVJPF1kV6Xu9"
      },
      "source": [
        "keras.backend.clear_session()\n",
        "\n",
        "input_sentence        = Input(shape=(128,), dtype='int32') \n",
        "\n",
        "sentence         = Embedding(num_words,32,input_length=128) (input_sentence)\n",
        "sentence         = LSTM(100,return_sequences=True)(sentence)\n",
        "\n",
        "x = attention()(sentence)\n",
        "\n",
        "x = Dense(64,activation='relu')(x)\n",
        "x = BatchNormalization()(x)\n",
        "\n",
        "x = Dropout(.5)(x)\n",
        "\n",
        "x = Dense(8,activation='relu')(x)\n",
        "x = BatchNormalization()(x)\n",
        "\n",
        "x = Dropout(.5)(x)\n",
        "\n",
        "x = Dense(4,activation='relu')(x)\n",
        "x = BatchNormalization()(x)\n",
        "\n",
        "x = Dropout(.5)(x)\n",
        "\n",
        "preds = Dense(2,activation='softmax')(x) \n",
        "\n",
        "lstm_model_attention = Model(inputs =input_sentence, outputs = preds)"
      ],
      "execution_count": null,
      "outputs": []
    },
    {
      "cell_type": "code",
      "metadata": {
        "colab": {
          "base_uri": "https://localhost:8080/",
          "height": 1000
        },
        "id": "qsLiBhEj2dZ-",
        "outputId": "c6bc192e-aff8-4879-9c84-94b7eef3d5b5"
      },
      "source": [
        "plot_model(lstm_model_attention)"
      ],
      "execution_count": null,
      "outputs": [
        {
          "output_type": "execute_result",
          "data": {
            "image/png": "[encoded data removed]",
            "text/plain": [
              "<IPython.core.display.Image object>"
            ]
          },
          "metadata": {
            "tags": []
          },
          "execution_count": 56
        }
      ]
    },
    {
      "cell_type": "code",
      "metadata": {
        "colab": {
          "base_uri": "https://localhost:8080/"
        },
        "id": "Fm2TE8yq4AYF",
        "outputId": "d79dee69-ad50-4fda-d7a0-608ecd0d6310"
      },
      "source": [
        "lstm_model_attention.summary()"
      ],
      "execution_count": null,
      "outputs": [
        {
          "output_type": "stream",
          "text": [
            "Model: \"model\"\n",
            "_________________________________________________________________\n",
            "Layer (type)                 Output Shape              Param #   \n",
            "=================================================================\n",
            "input_1 (InputLayer)         [(None, 128)]             0         \n",
            "_________________________________________________________________\n",
            "embedding (Embedding)        (None, 128, 32)           2744576   \n",
            "_________________________________________________________________\n",
            "lstm (LSTM)                  (None, 128, 100)          53200     \n",
            "_________________________________________________________________\n",
            "attention (attention)        (None, 100)               228       \n",
            "_________________________________________________________________\n",
            "dense (Dense)                (None, 64)                6464      \n",
            "_________________________________________________________________\n",
            "batch_normalization (BatchNo (None, 64)                256       \n",
            "_________________________________________________________________\n",
            "dropout (Dropout)            (None, 64)                0         \n",
            "_________________________________________________________________\n",
            "dense_1 (Dense)              (None, 8)                 520       \n",
            "_________________________________________________________________\n",
            "batch_normalization_1 (Batch (None, 8)                 32        \n",
            "_________________________________________________________________\n",
            "dropout_1 (Dropout)          (None, 8)                 0         \n",
            "_________________________________________________________________\n",
            "dense_2 (Dense)              (None, 4)                 36        \n",
            "_________________________________________________________________\n",
            "batch_normalization_2 (Batch (None, 4)                 16        \n",
            "_________________________________________________________________\n",
            "dropout_2 (Dropout)          (None, 4)                 0         \n",
            "_________________________________________________________________\n",
            "dense_3 (Dense)              (None, 2)                 10        \n",
            "=================================================================\n",
            "Total params: 2,805,338\n",
            "Trainable params: 2,805,186\n",
            "Non-trainable params: 152\n",
            "_________________________________________________________________\n"
          ],
          "name": "stdout"
        }
      ]
    },
    {
      "cell_type": "code",
      "metadata": {
        "colab": {
          "base_uri": "https://localhost:8080/",
          "height": 1000
        },
        "id": "wxp8MyLf4CMZ",
        "outputId": "03ea5ce2-5820-4692-f98d-0e01397e2307"
      },
      "source": [
        "plot_model(lstm_model_attention)"
      ],
      "execution_count": null,
      "outputs": [
        {
          "output_type": "execute_result",
          "data": {
            "image/png": "[encoded data removed]",
            "text/plain": [
              "<IPython.core.display.Image object>"
            ]
          },
          "metadata": {
            "tags": []
          },
          "execution_count": 61
        }
      ]
    },
    {
      "cell_type": "code",
      "metadata": {
        "id": "AI2l3gSXvA7g"
      },
      "source": [
        "lstm_model_attention.compile(loss='categorical_crossentropy', optimizer=Adam(lr=.01),metrics=['acc',auc,f1,precision, recall])"
      ],
      "execution_count": null,
      "outputs": []
    },
    {
      "cell_type": "code",
      "metadata": {
        "colab": {
          "base_uri": "https://localhost:8080/"
        },
        "id": "k58HmWiIvIbA",
        "outputId": "40c78b63-74b6-4130-df07-f0a840836174"
      },
      "source": [
        "lstm_model_attention.fit(X_train_data, to_categorical(train['class']),\n",
        "            batch_size=128, epochs=8,\n",
        "            validation_data=(X_test_data, to_categorical(test['class'])))"
      ],
      "execution_count": null,
      "outputs": [
        {
          "output_type": "stream",
          "text": [
            "Epoch 1/8\n",
            "7292/7292 [==============================] - 276s 37ms/step - loss: 0.6990 - acc: 0.5006 - auc: 0.5020 - f1: 0.5006 - precision: 0.5006 - recall: 0.5006 - val_loss: 0.6932 - val_acc: 0.5000 - val_auc: 0.5053 - val_f1: 0.5000 - val_precision: 0.5000 - val_recall: 0.5000\n",
            "Epoch 2/8\n",
            "7292/7292 [==============================] - 274s 38ms/step - loss: 0.6927 - acc: 0.5085 - auc: 0.5132 - f1: 0.5085 - precision: 0.5085 - recall: 0.5085 - val_loss: 0.6840 - val_acc: 0.5613 - val_auc: 0.5938 - val_f1: 0.5613 - val_precision: 0.5613 - val_recall: 0.5613\n",
            "Epoch 3/8\n",
            "7292/7292 [==============================] - 276s 38ms/step - loss: 0.6833 - acc: 0.5592 - auc: 0.5849 - f1: 0.5592 - precision: 0.5592 - recall: 0.5592 - val_loss: 0.6785 - val_acc: 0.5547 - val_auc: 0.6231 - val_f1: 0.5547 - val_precision: 0.5547 - val_recall: 0.5547\n",
            "Epoch 4/8\n",
            "7292/7292 [==============================] - 275s 38ms/step - loss: 0.6762 - acc: 0.5757 - auc: 0.6084 - f1: 0.5757 - precision: 0.5757 - recall: 0.5757 - val_loss: 0.6651 - val_acc: 0.5915 - val_auc: 0.6351 - val_f1: 0.5915 - val_precision: 0.5915 - val_recall: 0.5915\n",
            "Epoch 5/8\n",
            "7292/7292 [==============================] - 278s 38ms/step - loss: 0.6724 - acc: 0.5840 - auc: 0.6199 - f1: 0.5840 - precision: 0.5840 - recall: 0.5840 - val_loss: 0.6697 - val_acc: 0.5879 - val_auc: 0.6381 - val_f1: 0.5879 - val_precision: 0.5879 - val_recall: 0.5879\n",
            "Epoch 6/8\n",
            "7292/7292 [==============================] - 275s 38ms/step - loss: 0.6708 - acc: 0.5876 - auc: 0.6242 - f1: 0.5876 - precision: 0.5876 - recall: 0.5876 - val_loss: 0.6666 - val_acc: 0.5951 - val_auc: 0.6390 - val_f1: 0.5951 - val_precision: 0.5951 - val_recall: 0.5951\n",
            "Epoch 7/8\n",
            "7292/7292 [==============================] - 274s 38ms/step - loss: 0.6698 - acc: 0.5899 - auc: 0.6275 - f1: 0.5899 - precision: 0.5899 - recall: 0.5899 - val_loss: 0.6615 - val_acc: 0.5970 - val_auc: 0.6414 - val_f1: 0.5969 - val_precision: 0.5969 - val_recall: 0.5969\n",
            "Epoch 8/8\n",
            "7292/7292 [==============================] - 276s 38ms/step - loss: 0.6693 - acc: 0.5896 - auc: 0.6283 - f1: 0.5896 - precision: 0.5896 - recall: 0.5896 - val_loss: 0.6660 - val_acc: 0.5858 - val_auc: 0.6412 - val_f1: 0.5858 - val_precision: 0.5858 - val_recall: 0.5858\n"
          ],
          "name": "stdout"
        },
        {
          "output_type": "execute_result",
          "data": {
            "text/plain": [
              "<tensorflow.python.keras.callbacks.History at 0x7f4436074750>"
            ]
          },
          "metadata": {
            "tags": []
          },
          "execution_count": 249
        }
      ]
    },
    {
      "cell_type": "markdown",
      "metadata": {
        "id": "YwyzJeX4x-bo"
      },
      "source": [
        "###Bi-LSTM Model \n",
        "\n"
      ]
    },
    {
      "cell_type": "code",
      "metadata": {
        "id": "4FgH7NNj0170"
      },
      "source": [
        "keras.backend.clear_session()\n",
        "\n",
        "input_sentence        = Input(shape=(128,), dtype='int32') \n",
        "\n",
        "sentence         = Embedding(num_words,32,input_length=128) (input_sentence)\n",
        "sentence         = Bidirectional(LSTM(100))(sentence)\n",
        "\n",
        "x = Dense(64,activation='relu')(sentence)\n",
        "x = BatchNormalization()(x)\n",
        "x = Dropout(.5)(x)\n",
        "\n",
        "x = Dense(8,activation='relu')(x)\n",
        "x = BatchNormalization()(x)\n",
        "x = Dropout(.5)(x)\n",
        "\n",
        "x = Dense(4,activation='relu')(x)\n",
        "x = BatchNormalization()(x)\n",
        "x = Dropout(.5)(x)\n",
        "\n",
        "preds = Dense(2,activation='softmax')(x) \n",
        "\n",
        "bi_lstm_model = Model(inputs =input_sentence, outputs = preds)"
      ],
      "execution_count": null,
      "outputs": []
    },
    {
      "cell_type": "code",
      "metadata": {
        "colab": {
          "base_uri": "https://localhost:8080/"
        },
        "id": "TZOdUAu24dZO",
        "outputId": "1c508ec2-8ab6-472a-f211-10af2fd2c377"
      },
      "source": [
        "bi_lstm_model.summary()"
      ],
      "execution_count": null,
      "outputs": [
        {
          "output_type": "stream",
          "text": [
            "Model: \"model\"\n",
            "_________________________________________________________________\n",
            "Layer (type)                 Output Shape              Param #   \n",
            "=================================================================\n",
            "input_1 (InputLayer)         [(None, 128)]             0         \n",
            "_________________________________________________________________\n",
            "embedding (Embedding)        (None, 128, 32)           2744576   \n",
            "_________________________________________________________________\n",
            "bidirectional (Bidirectional (None, 200)               106400    \n",
            "_________________________________________________________________\n",
            "dense (Dense)                (None, 64)                12864     \n",
            "_________________________________________________________________\n",
            "batch_normalization (BatchNo (None, 64)                256       \n",
            "_________________________________________________________________\n",
            "dropout (Dropout)            (None, 64)                0         \n",
            "_________________________________________________________________\n",
            "dense_1 (Dense)              (None, 8)                 520       \n",
            "_________________________________________________________________\n",
            "batch_normalization_1 (Batch (None, 8)                 32        \n",
            "_________________________________________________________________\n",
            "dropout_1 (Dropout)          (None, 8)                 0         \n",
            "_________________________________________________________________\n",
            "dense_2 (Dense)              (None, 4)                 36        \n",
            "_________________________________________________________________\n",
            "batch_normalization_2 (Batch (None, 4)                 16        \n",
            "_________________________________________________________________\n",
            "dropout_2 (Dropout)          (None, 4)                 0         \n",
            "_________________________________________________________________\n",
            "dense_3 (Dense)              (None, 2)                 10        \n",
            "=================================================================\n",
            "Total params: 2,864,710\n",
            "Trainable params: 2,864,558\n",
            "Non-trainable params: 152\n",
            "_________________________________________________________________\n"
          ],
          "name": "stdout"
        }
      ]
    },
    {
      "cell_type": "code",
      "metadata": {
        "colab": {
          "base_uri": "https://localhost:8080/",
          "height": 1000
        },
        "id": "bWhXO59-4g4g",
        "outputId": "7f9cee7f-51ac-40e2-87e7-ae2af15a3d9f"
      },
      "source": [
        "plot_model(bi_lstm_model)"
      ],
      "execution_count": null,
      "outputs": [
        {
          "output_type": "execute_result",
          "data": {
            "image/png": "[encoded data removed]",
            "text/plain": [
              "<IPython.core.display.Image object>"
            ]
          },
          "metadata": {
            "tags": []
          },
          "execution_count": 59
        }
      ]
    },
    {
      "cell_type": "code",
      "metadata": {
        "id": "UgnLNAgM01-t"
      },
      "source": [
        "bi_lstm_model.compile(loss='categorical_crossentropy', optimizer=Adam(lr=.001),metrics=['acc',auc,f1,precision, recall])"
      ],
      "execution_count": null,
      "outputs": []
    },
    {
      "cell_type": "code",
      "metadata": {
        "colab": {
          "base_uri": "https://localhost:8080/"
        },
        "id": "srle1_hd0-J2",
        "outputId": "c7758c82-3cf5-48c0-f70a-bcc88194a9e0"
      },
      "source": [
        "bi_lstm_model.fit(X_train_data, to_categorical(train['class']),\n",
        "            batch_size=128, epochs=10,\n",
        "            validation_data=(X_test_data, to_categorical(test['class'])))"
      ],
      "execution_count": null,
      "outputs": [
        {
          "output_type": "stream",
          "text": [
            "Epoch 1/10\n",
            "7292/7292 [==============================] - 335s 45ms/step - loss: 0.7247 - acc: 0.5136 - auc: 0.5193 - f1: 0.5136 - precision: 0.5136 - recall: 0.5136 - val_loss: 0.6893 - val_acc: 0.5246 - val_auc: 0.5759 - val_f1: 0.5246 - val_precision: 0.5246 - val_recall: 0.5246\n",
            "Epoch 2/10\n",
            "7292/7292 [==============================] - 332s 46ms/step - loss: 0.6807 - acc: 0.5632 - auc: 0.5860 - f1: 0.5632 - precision: 0.5632 - recall: 0.5632 - val_loss: 0.6572 - val_acc: 0.6034 - val_auc: 0.6659 - val_f1: 0.6034 - val_precision: 0.6034 - val_recall: 0.6034\n",
            "Epoch 3/10\n",
            "7292/7292 [==============================] - 332s 46ms/step - loss: 0.6541 - acc: 0.6168 - auc: 0.6620 - f1: 0.6168 - precision: 0.6168 - recall: 0.6168 - val_loss: 0.6344 - val_acc: 0.6357 - val_auc: 0.6972 - val_f1: 0.6357 - val_precision: 0.6357 - val_recall: 0.6357\n",
            "Epoch 4/10\n",
            "7292/7292 [==============================] - 332s 46ms/step - loss: 0.6366 - acc: 0.6388 - auc: 0.6941 - f1: 0.6388 - precision: 0.6388 - recall: 0.6388 - val_loss: 0.6235 - val_acc: 0.6433 - val_auc: 0.7115 - val_f1: 0.6433 - val_precision: 0.6433 - val_recall: 0.6433\n",
            "Epoch 5/10\n",
            "7292/7292 [==============================] - 334s 46ms/step - loss: 0.6233 - acc: 0.6531 - auc: 0.7152 - f1: 0.6531 - precision: 0.6531 - recall: 0.6531 - val_loss: 0.6252 - val_acc: 0.6386 - val_auc: 0.7143 - val_f1: 0.6386 - val_precision: 0.6386 - val_recall: 0.6386\n",
            "Epoch 6/10\n",
            "7292/7292 [==============================] - 335s 46ms/step - loss: 0.6124 - acc: 0.6652 - auc: 0.7313 - f1: 0.6652 - precision: 0.6652 - recall: 0.6652 - val_loss: 0.6147 - val_acc: 0.6585 - val_auc: 0.7214 - val_f1: 0.6585 - val_precision: 0.6585 - val_recall: 0.6585\n",
            "Epoch 7/10\n",
            "7292/7292 [==============================] - 337s 46ms/step - loss: 0.6021 - acc: 0.6736 - auc: 0.7439 - f1: 0.6736 - precision: 0.6736 - recall: 0.6736 - val_loss: 0.6127 - val_acc: 0.6594 - val_auc: 0.7236 - val_f1: 0.6594 - val_precision: 0.6594 - val_recall: 0.6594\n",
            "Epoch 8/10\n",
            "7292/7292 [==============================] - 335s 46ms/step - loss: 0.5933 - acc: 0.6801 - auc: 0.7545 - f1: 0.6801 - precision: 0.6801 - recall: 0.6801 - val_loss: 0.6115 - val_acc: 0.6621 - val_auc: 0.7251 - val_f1: 0.6621 - val_precision: 0.6621 - val_recall: 0.6621\n",
            "Epoch 9/10\n",
            "7292/7292 [==============================] - 335s 46ms/step - loss: 0.5832 - acc: 0.6877 - auc: 0.7654 - f1: 0.6877 - precision: 0.6877 - recall: 0.6877 - val_loss: 0.6135 - val_acc: 0.6629 - val_auc: 0.7246 - val_f1: 0.6629 - val_precision: 0.6629 - val_recall: 0.6629\n",
            "Epoch 10/10\n",
            "7292/7292 [==============================] - 334s 46ms/step - loss: 0.5750 - acc: 0.6936 - auc: 0.7743 - f1: 0.6936 - precision: 0.6936 - recall: 0.6936 - val_loss: 0.6139 - val_acc: 0.6629 - val_auc: 0.7255 - val_f1: 0.6629 - val_precision: 0.6629 - val_recall: 0.6629\n"
          ],
          "name": "stdout"
        },
        {
          "output_type": "execute_result",
          "data": {
            "text/plain": [
              "<tensorflow.python.keras.callbacks.History at 0x7f44124ec8d0>"
            ]
          },
          "metadata": {
            "tags": []
          },
          "execution_count": 268
        }
      ]
    },
    {
      "cell_type": "markdown",
      "metadata": {
        "id": "xB1Daqz33IJ7"
      },
      "source": [
        "### Bi-LSTM with attention"
      ]
    },
    {
      "cell_type": "code",
      "metadata": {
        "id": "EUt9RIgEwVb8"
      },
      "source": [
        "keras.backend.clear_session()\n",
        "\n",
        "input_sentence        = Input(shape=(128,), dtype='int32') \n",
        "\n",
        "sentence         = Embedding(num_words,32,input_length=128) (input_sentence)\n",
        "sentence         = Bidirectional(LSTM(100,return_sequences=True))(sentence)\n",
        "\n",
        "x=attention()(sentence)\n",
        "\n",
        "x = Dense(64,activation='relu')(x)\n",
        "x = BatchNormalization()(x)\n",
        "x = Dropout(.5)(x)\n",
        "\n",
        "x = Dense(8,activation='relu')(x)\n",
        "x = BatchNormalization()(x)\n",
        "x = Dropout(.5)(x)\n",
        "\n",
        "x = Dense(4,activation='relu')(x)\n",
        "x = BatchNormalization()(x)\n",
        "x = Dropout(.5)(x)\n",
        "\n",
        "preds = Dense(2,activation='softmax')(x) \n",
        "\n",
        "bi_lstm_model_attention = Model(inputs =input_sentence, outputs = preds)"
      ],
      "execution_count": null,
      "outputs": []
    },
    {
      "cell_type": "code",
      "metadata": {
        "colab": {
          "base_uri": "https://localhost:8080/",
          "height": 1000
        },
        "id": "CVUuCysO28aw",
        "outputId": "8b1c0bca-56a0-42ca-c5b9-3ee834ca07f3"
      },
      "source": [
        "plot_model(bi_lstm_model_attention)"
      ],
      "execution_count": null,
      "outputs": [
        {
          "output_type": "execute_result",
          "data": {
            "image/png": "[encoded data removed]",
            "text/plain": [
              "<IPython.core.display.Image object>"
            ]
          },
          "metadata": {
            "tags": []
          },
          "execution_count": 62
        }
      ]
    },
    {
      "cell_type": "code",
      "metadata": {
        "colab": {
          "base_uri": "https://localhost:8080/"
        },
        "id": "gVXAfBLR4r2q",
        "outputId": "a30e02c9-bfa8-4cd9-eeb9-b216d763b5df"
      },
      "source": [
        "bi_lstm_model_attention.summary()"
      ],
      "execution_count": null,
      "outputs": [
        {
          "output_type": "stream",
          "text": [
            "Model: \"model\"\n",
            "_________________________________________________________________\n",
            "Layer (type)                 Output Shape              Param #   \n",
            "=================================================================\n",
            "input_1 (InputLayer)         [(None, 128)]             0         \n",
            "_________________________________________________________________\n",
            "embedding (Embedding)        (None, 128, 32)           2744576   \n",
            "_________________________________________________________________\n",
            "bidirectional (Bidirectional (None, 128, 200)          106400    \n",
            "_________________________________________________________________\n",
            "attention (attention)        (None, 200)               328       \n",
            "_________________________________________________________________\n",
            "dense (Dense)                (None, 64)                12864     \n",
            "_________________________________________________________________\n",
            "batch_normalization (BatchNo (None, 64)                256       \n",
            "_________________________________________________________________\n",
            "dropout (Dropout)            (None, 64)                0         \n",
            "_________________________________________________________________\n",
            "dense_1 (Dense)              (None, 8)                 520       \n",
            "_________________________________________________________________\n",
            "batch_normalization_1 (Batch (None, 8)                 32        \n",
            "_________________________________________________________________\n",
            "dropout_1 (Dropout)          (None, 8)                 0         \n",
            "_________________________________________________________________\n",
            "dense_2 (Dense)              (None, 4)                 36        \n",
            "_________________________________________________________________\n",
            "batch_normalization_2 (Batch (None, 4)                 16        \n",
            "_________________________________________________________________\n",
            "dropout_2 (Dropout)          (None, 4)                 0         \n",
            "_________________________________________________________________\n",
            "dense_3 (Dense)              (None, 2)                 10        \n",
            "=================================================================\n",
            "Total params: 2,865,038\n",
            "Trainable params: 2,864,886\n",
            "Non-trainable params: 152\n",
            "_________________________________________________________________\n"
          ],
          "name": "stdout"
        }
      ]
    },
    {
      "cell_type": "code",
      "metadata": {
        "colab": {
          "base_uri": "https://localhost:8080/",
          "height": 1000
        },
        "id": "7JV89U3Z4uBq",
        "outputId": "f722cae2-2ebd-4054-be86-2c1ad1e53d5d"
      },
      "source": [
        "plot_model(bi_lstm_model_attention)"
      ],
      "execution_count": null,
      "outputs": [
        {
          "output_type": "execute_result",
          "data": {
            "image/png": "[encoded data removed]",
            "text/plain": [
              "<IPython.core.display.Image object>"
            ]
          },
          "metadata": {
            "tags": []
          },
          "execution_count": 68
        }
      ]
    },
    {
      "cell_type": "code",
      "metadata": {
        "id": "4yoALhSlC2wd"
      },
      "source": [
        "bi_lstm_model_attention.compile(loss='categorical_crossentropy', optimizer=Adam(lr=.001),metrics=['acc',auc])"
      ],
      "execution_count": null,
      "outputs": []
    },
    {
      "cell_type": "code",
      "metadata": {
        "colab": {
          "base_uri": "https://localhost:8080/"
        },
        "id": "N8mu8ZQnC5Wy",
        "outputId": "9a35b9fb-f839-4424-8e78-6e69f6390554"
      },
      "source": [
        "bi_lstm_model_attention.fit(X_train_data, to_categorical(train['class']),\n",
        "            batch_size=128, epochs=10,\n",
        "            validation_data=(X_test_data, to_categorical(test['class'])),\n",
        "            callbacks=[score])"
      ],
      "execution_count": null,
      "outputs": [
        {
          "output_type": "stream",
          "text": [
            "Epoch 1/10\n",
            "7292/7292 [==============================] - 368s 46ms/step - loss: 0.7540 - acc: 0.5087 - auc: 0.5130 - val_loss: 0.6790 - val_acc: 0.5689 - val_auc: 0.5943\n",
            "F1 Score 0.5689020091646105\n",
            "Epoch 2/10\n",
            "7292/7292 [==============================] - 336s 46ms/step - loss: 0.6786 - acc: 0.5709 - auc: 0.5948 - val_loss: 0.6638 - val_acc: 0.5754 - val_auc: 0.6691\n",
            "F1 Score 0.575422982023264\n",
            "Epoch 3/10\n",
            "7292/7292 [==============================] - 334s 46ms/step - loss: 0.6520 - acc: 0.6191 - auc: 0.6666 - val_loss: 0.6337 - val_acc: 0.6312 - val_auc: 0.6978\n",
            "F1 Score 0.6311508635882975\n",
            "Epoch 4/10\n",
            "7292/7292 [==============================] - 349s 48ms/step - loss: 0.6338 - acc: 0.6420 - auc: 0.6991 - val_loss: 0.6324 - val_acc: 0.6210 - val_auc: 0.7154\n",
            "F1 Score 0.6209552344025379\n",
            "Epoch 5/10\n",
            "7292/7292 [==============================] - 344s 47ms/step - loss: 0.6198 - acc: 0.6557 - auc: 0.7203 - val_loss: 0.6157 - val_acc: 0.6547 - val_auc: 0.7211\n",
            "F1 Score 0.6546704265068735\n",
            "Epoch 6/10\n",
            "7292/7292 [==============================] - 339s 47ms/step - loss: 0.6100 - acc: 0.6651 - auc: 0.7341 - val_loss: 0.6108 - val_acc: 0.6614 - val_auc: 0.7253\n",
            "F1 Score 0.661376454000705\n",
            "Epoch 7/10\n",
            "7292/7292 [==============================] - 337s 46ms/step - loss: 0.6003 - acc: 0.6730 - auc: 0.7454 - val_loss: 0.6120 - val_acc: 0.6536 - val_auc: 0.7259\n",
            "F1 Score 0.6536217835741981\n",
            "Epoch 8/10\n",
            "7292/7292 [==============================] - 336s 46ms/step - loss: 0.5920 - acc: 0.6798 - auc: 0.7550 - val_loss: 0.6164 - val_acc: 0.6516 - val_auc: 0.7263\n",
            "F1 Score 0.6515949947127248\n",
            "Epoch 9/10\n",
            "7292/7292 [==============================] - 336s 46ms/step - loss: 0.5826 - acc: 0.6871 - auc: 0.7656 - val_loss: 0.6241 - val_acc: 0.6333 - val_auc: 0.7268\n",
            "F1 Score 0.6332657737046176\n",
            "Epoch 10/10\n",
            "7292/7292 [==============================] - 337s 46ms/step - loss: 0.5742 - acc: 0.6922 - auc: 0.7741 - val_loss: 0.6187 - val_acc: 0.6544 - val_auc: 0.7260\n",
            "F1 Score 0.6544324991187874\n"
          ],
          "name": "stdout"
        },
        {
          "output_type": "execute_result",
          "data": {
            "text/plain": [
              "<tensorflow.python.keras.callbacks.History at 0x7fc0f75e2950>"
            ]
          },
          "metadata": {
            "tags": []
          },
          "execution_count": 45
        }
      ]
    },
    {
      "cell_type": "code",
      "metadata": {
        "id": "7qkYJNccEQj4"
      },
      "source": [
        "#SAVE the model\n",
        "\n",
        "bi_lstm_model_attention.save('bi_lstm_with_attention.h5')"
      ],
      "execution_count": null,
      "outputs": []
    },
    {
      "cell_type": "markdown",
      "metadata": {
        "id": "lTbHeyWaRBSk"
      },
      "source": [
        "## Summary"
      ]
    },
    {
      "cell_type": "code",
      "metadata": {
        "id": "Bctdnk9_EsJ1"
      },
      "source": [
        "def confusion_matrixx(model) :\n",
        "    predictions = model.predict(test['data'])\n",
        "    y_pred = np.argmax(predictions, axis=1)\n",
        "    matrix = confusion_matrix(test['class'], y_pred)\n",
        "    print(matrix)"
      ],
      "execution_count": null,
      "outputs": []
    },
    {
      "cell_type": "markdown",
      "metadata": {
        "id": "rA62cm9G4244"
      },
      "source": [
        "### CNN models"
      ]
    },
    {
      "cell_type": "markdown",
      "metadata": {
        "id": "0ublH-k4mcMk"
      },
      "source": [
        "CNN model1 \n",
        "\n",
        "Accurcy = .6484   AUC = .7073\n",
        "\n",
        "F1 = .6484 Precision .6484 Recall = .6484"
      ]
    },
    {
      "cell_type": "markdown",
      "metadata": {
        "id": "-VPSdETomefL"
      },
      "source": [
        "CNN model 2\n",
        "\n",
        "Accuracy = .6328 AUC = .6998\n",
        "\n",
        "F1 = .6327 Precision = .6327 Recall = .6327"
      ]
    },
    {
      "cell_type": "markdown",
      "metadata": {
        "id": "Yc7UpSSM45gL"
      },
      "source": [
        "### LSTM models"
      ]
    },
    {
      "cell_type": "markdown",
      "metadata": {
        "id": "uvos4-kERcmu"
      },
      "source": [
        "LSTM Model\n",
        "\n",
        "Accuary = .50    AUC = .50\n",
        "\n",
        "F1 Score = .50   Precison = .50 Recall = .50\n",
        "\n",
        "The model classifiy evey sentence as one class , Discard the model"
      ]
    },
    {
      "cell_type": "code",
      "metadata": {
        "colab": {
          "base_uri": "https://localhost:8080/"
        },
        "id": "slluoMmdRbTs",
        "outputId": "eebd0355-34ad-4efb-9a49-4fd46e350494"
      },
      "source": [
        "confusion_matrixx(lstm_model)"
      ],
      "execution_count": null,
      "outputs": [
        {
          "output_type": "stream",
          "text": [
            "[[    0 56740]\n",
            " [    0 56740]]\n"
          ],
          "name": "stdout"
        }
      ]
    },
    {
      "cell_type": "markdown",
      "metadata": {
        "id": "PdtyUyjl4Peh"
      },
      "source": [
        "LSTM with attention Model\n",
        "\n",
        "Accuary  = .5858     AUC = .6412\n",
        " \n",
        "F1 Score = .5858    Precison = .5858 Recall = .5858\n",
        "\n",
        "LSTM with attention Model words better than vanilla LSTM model"
      ]
    },
    {
      "cell_type": "markdown",
      "metadata": {
        "id": "_Y6ioi8P4Z_3"
      },
      "source": [
        "Bi-LSTM \n",
        "\n",
        "Accuary = .6629    AUC = .7255\n",
        " \n",
        "F1 Score = .6629   Precison = .6629 Recall = .6629"
      ]
    },
    {
      "cell_type": "markdown",
      "metadata": {
        "id": "XhTnE88p4dzn"
      },
      "source": [
        "Bi-LSTM with attention\n",
        "\n",
        "Accuary = .6632    AUC = .7289\n",
        " \n",
        "F1 Score = .6632   Precison = .6632 Recall = .6632"
      ]
    },
    {
      "cell_type": "markdown",
      "metadata": {
        "id": "SfGAH3C6Tm4n"
      },
      "source": [
        "Bi-LSTM models performs better than LSTM\n",
        "\n",
        "The attention Mechanism is able to improve vanilla LSTM model\n",
        "\n",
        "Bi-LSTM model with attention performs better among the 4 models "
      ]
    }
  ]
}